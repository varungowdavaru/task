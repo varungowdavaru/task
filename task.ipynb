{
 "cells": [
  {
   "cell_type": "markdown",
   "id": "dd88dcc0",
   "metadata": {},
   "source": [
    "# 2.c.   Both JSON and Parquet datasets are identical in contents, but you must choose to use one over the other. Please provide your justification for your choice of dataset...?\n",
    "\n",
    "#### 1.Parquet is faster then json, json is normally used for configurations setting,but Parquet is columnar dataset formot which is more faster when ever reading.\n",
    "#### 2 In google cloud, database called big query is a columnar database which works more faster with Parquet data\n"
   ]
  },
  {
   "cell_type": "markdown",
   "id": "7b1a52e2",
   "metadata": {},
   "source": [
    "# importing required library"
   ]
  },
  {
   "cell_type": "code",
   "execution_count": 51,
   "id": "4ca8b5d7",
   "metadata": {},
   "outputs": [],
   "source": [
    "import pandas as pd\n",
    "import numpy as np\n",
    "import json\n",
    "import requests\n",
    "import geocoder\n",
    "from matplotlib import pyplot as plt\n",
    "import seaborn as sns\n",
    "import glob, os, json\n",
    "from geopy.geocoders import Nominatim\n",
    "import goslate\n",
    "geolocator = Nominatim(user_agent=\"geoapiExercises\")\n",
    "import ast\n",
    "from pandas.io.json import json_normalize\n",
    "import geopandas as gpd\n",
    "import geopy\n",
    "from geopy.geocoders import Nominatim\n",
    "from geopy.extra.rate_limiter import RateLimiter\n",
    "from tqdm._tqdm_notebook import tqdm_notebook\n",
    "from tqdm.auto import tqdm\n",
    "tqdm.pandas()\n",
    "import pinyin"
   ]
  },
  {
   "cell_type": "markdown",
   "id": "100ee5b4",
   "metadata": {},
   "source": [
    "# Reading all the json file inside the dowload folder"
   ]
  },
  {
   "cell_type": "code",
   "execution_count": 3,
   "id": "78ccba78",
   "metadata": {},
   "outputs": [],
   "source": [
    "def read_json(json_dir):\n",
    "    json_pattern = os.path.join(json_dir, '*.json')\n",
    "    file_list = glob.glob(json_pattern)\n",
    "\n",
    "    dfs = []\n",
    "    for file in file_list[:2]:\n",
    "        print(file)\n",
    "        json_data = pd.read_json(file,lines=True)\n",
    "        dfs.append(json_data)\n",
    "    df = pd.concat(dfs)\n",
    "    \n",
    "    return df\n",
    "    "
   ]
  },
  {
   "cell_type": "code",
   "execution_count": 4,
   "id": "eb9372c3",
   "metadata": {},
   "outputs": [],
   "source": [
    "#df=read_json('json')"
   ]
  },
  {
   "cell_type": "markdown",
   "id": "d10ea10b",
   "metadata": {},
   "source": [
    "## reading the all the csv file having all the json data."
   ]
  },
  {
   "cell_type": "code",
   "execution_count": 164,
   "id": "913d7d52",
   "metadata": {},
   "outputs": [],
   "source": [
    "df=pd.read_csv(\"Ocean AIS dwell behavior.csv\")"
   ]
  },
  {
   "cell_type": "markdown",
   "id": "e871959f",
   "metadata": {},
   "source": [
    "## preprocesseing data"
   ]
  },
  {
   "cell_type": "code",
   "execution_count": 165,
   "id": "5e9c6e6d",
   "metadata": {},
   "outputs": [],
   "source": [
    "def preprocess(df):\n",
    "    try:\n",
    "        df[\"epochMillis\"] = pd.to_datetime(df[\"epochMillis\"],unit='ms')\n",
    "    \n",
    "        df[\"epochMillis\"] = pd.to_datetime(df[\"epochMillis\"],unit='ms')\n",
    "        v = json_normalize([ast.literal_eval(j) for j in df.pop(\"position\")], sep='')\n",
    "        df=pd.concat([df, v], 1)\n",
    "        \n",
    "        \n",
    "        \n",
    "        v = json_normalize([ast.literal_eval(j) for j in df.pop(\"navigation\")], sep='')\n",
    "        df=pd.concat([df, v], 1)\n",
    "        \n",
    "        \n",
    "        \n",
    "        v = json_normalize([ast.literal_eval(j) for j in df.pop(\"vesselDetails\")], sep='')\n",
    "        v=v.rename(columns={\"name\":\"vessel_name\"})\n",
    "        df=pd.concat([df, v], 1)\n",
    "        \n",
    "        \n",
    "        v = json_normalize([ast.literal_eval(j) for j in df.pop(\"port\")], sep='')\n",
    "        v=v.rename(columns={\"name\":\"port_name\",'latitude':\"port_latitude\",\"longitude\":\"port_longitude\"})\n",
    "        df=pd.concat([df, v], 1)\n",
    "    except exception as e:\n",
    "        print(e)\n",
    "        \n",
    "    return df"
   ]
  },
  {
   "cell_type": "code",
   "execution_count": 166,
   "id": "1db15107",
   "metadata": {},
   "outputs": [
    {
     "name": "stderr",
     "output_type": "stream",
     "text": [
      "<ipython-input-165-8eef9a2ed5a0>:6: FutureWarning: pandas.io.json.json_normalize is deprecated, use pandas.json_normalize instead\n",
      "  v = json_normalize([ast.literal_eval(j) for j in df.pop(\"position\")], sep='')\n",
      "<ipython-input-165-8eef9a2ed5a0>:11: FutureWarning: pandas.io.json.json_normalize is deprecated, use pandas.json_normalize instead\n",
      "  v = json_normalize([ast.literal_eval(j) for j in df.pop(\"navigation\")], sep='')\n",
      "<ipython-input-165-8eef9a2ed5a0>:16: FutureWarning: pandas.io.json.json_normalize is deprecated, use pandas.json_normalize instead\n",
      "  v = json_normalize([ast.literal_eval(j) for j in df.pop(\"vesselDetails\")], sep='')\n",
      "<ipython-input-165-8eef9a2ed5a0>:21: FutureWarning: pandas.io.json.json_normalize is deprecated, use pandas.json_normalize instead\n",
      "  v = json_normalize([ast.literal_eval(j) for j in df.pop(\"port\")], sep='')\n"
     ]
    }
   ],
   "source": [
    "df = preprocess(df)"
   ]
  },
  {
   "cell_type": "code",
   "execution_count": 167,
   "id": "08d61cd5",
   "metadata": {},
   "outputs": [
    {
     "name": "stdout",
     "output_type": "stream",
     "text": [
      "<class 'pandas.core.frame.DataFrame'>\n",
      "RangeIndex: 3473877 entries, 0 to 3473876\n",
      "Data columns (total 28 columns):\n",
      " #   Column            Dtype         \n",
      "---  ------            -----         \n",
      " 0   Unnamed: 0        int64         \n",
      " 1   epochMillis       datetime64[ns]\n",
      " 2   mmsi              int64         \n",
      " 3   olson_timezone    object        \n",
      " 4   imo               float64       \n",
      " 5   callSign          object        \n",
      " 6   destination       object        \n",
      " 7   cargoDetails      object        \n",
      " 8   latitude          float64       \n",
      " 9   longitude         float64       \n",
      " 10  navCode           int64         \n",
      " 11  navDesc           object        \n",
      " 12  courseOverGround  float64       \n",
      " 13  heading           float64       \n",
      " 14  rateOfTurn        float64       \n",
      " 15  speedOverGround   float64       \n",
      " 16  vessel_name       object        \n",
      " 17  typeName          object        \n",
      " 18  typeCode          int64         \n",
      " 19  draught           float64       \n",
      " 20  length            float64       \n",
      " 21  width             float64       \n",
      " 22  flagCode          int64         \n",
      " 23  flagCountry       object        \n",
      " 24  unlocode          object        \n",
      " 25  port_name         object        \n",
      " 26  port_latitude     float64       \n",
      " 27  port_longitude    float64       \n",
      "dtypes: datetime64[ns](1), float64(12), int64(5), object(10)\n",
      "memory usage: 742.1+ MB\n"
     ]
    }
   ],
   "source": [
    "df.info()"
   ]
  },
  {
   "cell_type": "markdown",
   "id": "124b1c29",
   "metadata": {},
   "source": [
    "# read preprocessed data"
   ]
  },
  {
   "cell_type": "code",
   "execution_count": 52,
   "id": "dcd3933d",
   "metadata": {},
   "outputs": [],
   "source": [
    "df=pd.read_csv(\"preprocessed_data.csv\")\n",
    "df[\"epochMillis\"] = pd.to_datetime(df[\"epochMillis\"])"
   ]
  },
  {
   "cell_type": "markdown",
   "id": "27d6cc8d",
   "metadata": {},
   "source": [
    "## 5.What region(s) of the world and ocean port(s) does this data represent? Provide evidence to justify your answer.\n",
    "\n",
    "#### below table gives city of the position od the vessel having the flagcountry as inda\n"
   ]
  },
  {
   "cell_type": "code",
   "execution_count": 54,
   "id": "f7f91157",
   "metadata": {},
   "outputs": [
    {
     "name": "stderr",
     "output_type": "stream",
     "text": [
      "/Users/varun/opt/anaconda3/lib/python3.8/site-packages/pandas/core/indexing.py:1637: SettingWithCopyWarning: \n",
      "A value is trying to be set on a copy of a slice from a DataFrame\n",
      "\n",
      "See the caveats in the documentation: https://pandas.pydata.org/pandas-docs/stable/user_guide/indexing.html#returning-a-view-versus-a-copy\n",
      "  self._setitem_single_block(indexer, value, name)\n"
     ]
    }
   ],
   "source": [
    "df_india=df[df[\"flagCountry\"]=='India'].reset_index()\n",
    "df_india['city']=np.nan\n",
    "for i in range (0,len(df_india['latitude'])):\n",
    "    try:\n",
    "        location=geolocator.reverse(str(df_india['latitude'][i])+\",\"+str(df_india['longitude'][i]))\n",
    "        df_india['city'].iloc[i]=pinyin.get(location.raw.get('address').get('city'))\n",
    "    except:\n",
    "        pass\n",
    "df_india"
   ]
  },
  {
   "cell_type": "markdown",
   "id": "fa78e193",
   "metadata": {},
   "source": [
    "# 3.What is(are) the main time period(s) in the data?\n",
    "\n",
    "\n",
    "#### from the below plots, we can say that , main time period will be 3rd month(march) and the week 13 from compared week 12 and year 2019 is having more vessel involved the transportaion"
   ]
  },
  {
   "cell_type": "code",
   "execution_count": 57,
   "id": "a01cb2f4",
   "metadata": {},
   "outputs": [
    {
     "name": "stderr",
     "output_type": "stream",
     "text": [
      "/Users/varun/opt/anaconda3/lib/python3.8/site-packages/seaborn/_decorators.py:36: FutureWarning: Pass the following variables as keyword args: x, y. From version 0.12, the only valid positional argument will be `data`, and passing other arguments without an explicit keyword will result in an error or misinterpretation.\n",
      "  warnings.warn(\n"
     ]
    },
    {
     "data": {
      "text/plain": [
       "<AxesSubplot:xlabel='day', ylabel='values_count'>"
      ]
     },
     "execution_count": 57,
     "metadata": {},
     "output_type": "execute_result"
    },
    {
     "data": {
      "image/png": "[encoded data removed]",
      "text/plain": [
       "<Figure size 1080x576 with 1 Axes>"
      ]
     },
     "metadata": {
      "needs_background": "light"
     },
     "output_type": "display_data"
    }
   ],
   "source": [
    "df[\"day\"] = df[\"epochMillis\"].dt.day\n",
    "dd = df.groupby([\"day\"])[\"mmsi\"].nunique().sort_values(ascending=False).reset_index().rename(columns={\"mmsi\":\"values_count\"})\n",
    "\n",
    "\n",
    "plt.figure(figsize = [15,8])\n",
    "sns.barplot(\"day\",\"values_count\",data = dd)"
   ]
  },
  {
   "cell_type": "code",
   "execution_count": 58,
   "id": "8b6c5d4e",
   "metadata": {},
   "outputs": [
    {
     "name": "stderr",
     "output_type": "stream",
     "text": [
      "<ipython-input-58-61a8424dcdc6>:1: FutureWarning: Series.dt.weekofyear and Series.dt.week have been deprecated.  Please use Series.dt.isocalendar().week instead.\n",
      "  df[\"week\"] = df[\"epochMillis\"].dt.week\n",
      "/Users/varun/opt/anaconda3/lib/python3.8/site-packages/seaborn/_decorators.py:36: FutureWarning: Pass the following variables as keyword args: x, y. From version 0.12, the only valid positional argument will be `data`, and passing other arguments without an explicit keyword will result in an error or misinterpretation.\n",
      "  warnings.warn(\n"
     ]
    },
    {
     "data": {
      "text/plain": [
       "<AxesSubplot:xlabel='week', ylabel='values_count'>"
      ]
     },
     "execution_count": 58,
     "metadata": {},
     "output_type": "execute_result"
    },
    {
     "data": {
      "image/png": "[encoded data removed]",
      "text/plain": [
       "<Figure size 1080x576 with 1 Axes>"
      ]
     },
     "metadata": {
      "needs_background": "light"
     },
     "output_type": "display_data"
    }
   ],
   "source": [
    "df[\"week\"] = df[\"epochMillis\"].dt.week\n",
    "dd = df.groupby([\"week\"])[\"mmsi\"].nunique().sort_values(ascending = False).reset_index().rename(columns = {\"mmsi\":\"values_count\"})\n",
    "\n",
    "\n",
    "plt.figure(figsize =[15,8])\n",
    "sns.barplot(\"week\",\"values_count\",data = dd)"
   ]
  },
  {
   "cell_type": "code",
   "execution_count": 59,
   "id": "a3929535",
   "metadata": {},
   "outputs": [
    {
     "name": "stderr",
     "output_type": "stream",
     "text": [
      "/Users/varun/opt/anaconda3/lib/python3.8/site-packages/seaborn/_decorators.py:36: FutureWarning: Pass the following variables as keyword args: x, y. From version 0.12, the only valid positional argument will be `data`, and passing other arguments without an explicit keyword will result in an error or misinterpretation.\n",
      "  warnings.warn(\n"
     ]
    },
    {
     "data": {
      "text/plain": [
       "<AxesSubplot:xlabel='month', ylabel='values_count'>"
      ]
     },
     "execution_count": 59,
     "metadata": {},
     "output_type": "execute_result"
    },
    {
     "data": {
      "image/png": "[encoded data removed]",
      "text/plain": [
       "<Figure size 1080x576 with 1 Axes>"
      ]
     },
     "metadata": {
      "needs_background": "light"
     },
     "output_type": "display_data"
    }
   ],
   "source": [
    "df[\"month\"] = df[\"epochMillis\"].dt.month\n",
    "dd = df.groupby([\"month\"])[\"mmsi\"].nunique().sort_values(ascending=False).reset_index().rename(columns={\"mmsi\":\"values_count\"})\n",
    "\n",
    "\n",
    "plt.figure(figsize =[15,8])\n",
    "sns.barplot(\"month\",\"values_count\",data  =dd)"
   ]
  },
  {
   "cell_type": "code",
   "execution_count": 60,
   "id": "9bbcc7d7",
   "metadata": {},
   "outputs": [
    {
     "name": "stderr",
     "output_type": "stream",
     "text": [
      "/Users/varun/opt/anaconda3/lib/python3.8/site-packages/seaborn/_decorators.py:36: FutureWarning: Pass the following variables as keyword args: x, y. From version 0.12, the only valid positional argument will be `data`, and passing other arguments without an explicit keyword will result in an error or misinterpretation.\n",
      "  warnings.warn(\n"
     ]
    },
    {
     "data": {
      "text/plain": [
       "<AxesSubplot:xlabel='year', ylabel='values_count'>"
      ]
     },
     "execution_count": 60,
     "metadata": {},
     "output_type": "execute_result"
    },
    {
     "data": {
      "image/png": "[encoded data removed]",
      "text/plain": [
       "<Figure size 1080x576 with 1 Axes>"
      ]
     },
     "metadata": {
      "needs_background": "light"
     },
     "output_type": "display_data"
    }
   ],
   "source": [
    "df[\"year\"]= df[\"epochMillis\"].dt.year\n",
    "\n",
    "dd = df.groupby([\"year\"])[\"mmsi\"].nunique().sort_values(ascending = False).reset_index().rename(columns =  {\"mmsi\":\"values_count\"})\n",
    "\n",
    "\n",
    "plt.figure(figsize = [15,8])\n",
    "sns.barplot(\"year\",\"values_count\",data = dd)"
   ]
  },
  {
   "cell_type": "markdown",
   "id": "1a643d48",
   "metadata": {},
   "source": [
    "# 4.Which are the top three most sparse variables?\n",
    "#### 1.what does sparesity means:\n",
    "#### ans: we can tell the data spare in 2 ways , onw way is while checking raw data where we see the fature having lot Nan values and the other ways is while giving the data to the model model where the varibales  were having variations in the data.\n"
   ]
  },
  {
   "cell_type": "markdown",
   "id": "fc19a693",
   "metadata": {},
   "source": [
    "## top 3 spare varibales were \n",
    "\n",
    "####  cargoDetails : 0.9040633850881882\n",
    "####  imo : 0.4234289239371457\n",
    "####  destination : 0.3272951229994614\n",
    "####  callSign : 0.29131860454472047\n",
    "\n"
   ]
  },
  {
   "cell_type": "code",
   "execution_count": 147,
   "id": "80007a4b",
   "metadata": {},
   "outputs": [],
   "source": [
    "f=[]\n",
    "d=[]\n",
    "def nullplot():\n",
    "    for feature in df.columns:\n",
    "        print(feature,\":\",df[feature].isna().sum()/df.shape[0])\n",
    "        #sns.barplot(x=df[feature],y=df2[feature].isna().sum()/df2.shape[0])\n",
    "        f.append(feature)\n",
    "        d.append(df[feature].isna().sum()/df.shape[0])\n",
    "    plt.figure(figsize=[15,5])\n",
    "    sns.barplot(x=f,y=d)\n",
    "    return"
   ]
  },
  {
   "cell_type": "code",
   "execution_count": 148,
   "id": "abac84f3",
   "metadata": {},
   "outputs": [
    {
     "name": "stdout",
     "output_type": "stream",
     "text": [
      "Unnamed: 0 : 0.0\n",
      "Unnamed: 0.1 : 0.0\n",
      "epochMillis : 0.0\n",
      "mmsi : 0.0\n",
      "olson_timezone : 0.0\n",
      "imo : 0.4234289239371457\n",
      "callSign : 0.29131860454472047\n",
      "destination : 0.3272951229994614\n",
      "cargoDetails : 0.9040633850881882\n",
      "latitude : 0.0\n",
      "longitude : 0.0\n",
      "navCode : 0.0\n",
      "navDesc : 0.0\n",
      "courseOverGround : 0.0\n",
      "heading : 0.0\n",
      "rateOfTurn : 0.0\n",
      "speedOverGround : 0.0\n",
      "vessel_name : 0.0\n",
      "typeName : 0.0\n",
      "typeCode : 0.0\n",
      "draught : 0.06172498335433293\n",
      "length : 0.012146371330936587\n",
      "width : 0.012146371330936587\n",
      "flagCode : 0.0\n",
      "flagCountry : 0.0\n",
      "unlocode : 0.0\n",
      "port_name : 0.0\n",
      "port_latitude : 0.0\n",
      "port_longitude : 0.0\n",
      "day : 0.0\n",
      "week : 0.0\n",
      "month : 0.0\n",
      "year : 0.0\n"
     ]
    },
    {
     "data": {
      "image/png": "[encoded data removed]",
      "text/plain": [
       "<Figure size 1080x360 with 1 Axes>"
      ]
     },
     "metadata": {
      "needs_background": "light"
     },
     "output_type": "display_data"
    }
   ],
   "source": [
    "nullplot()"
   ]
  },
  {
   "cell_type": "code",
   "execution_count": 62,
   "id": "bb7b01c1",
   "metadata": {},
   "outputs": [
    {
     "name": "stderr",
     "output_type": "stream",
     "text": [
      "/Users/varun/opt/anaconda3/lib/python3.8/site-packages/seaborn/_decorators.py:36: FutureWarning: Pass the following variables as keyword args: x, y. From version 0.12, the only valid positional argument will be `data`, and passing other arguments without an explicit keyword will result in an error or misinterpretation.\n",
      "  warnings.warn(\n"
     ]
    },
    {
     "data": {
      "text/plain": [
       "<AxesSubplot:xlabel='fetures', ylabel='counts'>"
      ]
     },
     "execution_count": 62,
     "metadata": {},
     "output_type": "execute_result"
    },
    {
     "data": {
      "image/png": "[encoded data removed]",
      "text/plain": [
       "<Figure size 1080x576 with 1 Axes>"
      ]
     },
     "metadata": {
      "needs_background": "light"
     },
     "output_type": "display_data"
    }
   ],
   "source": [
    "cat =[\"navCode\",\"navDesc\",\"port_name\",\"typeName\",\"unlocode\",\"vessel_name\",\"destination\",\"olson_timezone\"]\n",
    "\n",
    "dd = df[cat].nunique().sort_values(ascending = False).reset_index()[:5].rename(columns = {'index':\"fetures\",0:\"counts\"})\n",
    "plt.figure(figsize = [15,8])\n",
    "sns.barplot(\"fetures\",\"counts\",data = dd)\n",
    "    "
   ]
  },
  {
   "cell_type": "markdown",
   "id": "522db0a4",
   "metadata": {},
   "source": [
    "# 6.frequency tabulation of the various Navigation Codes & Descriptions (i.e., navCode & NavDesc)."
   ]
  },
  {
   "cell_type": "code",
   "execution_count": 149,
   "id": "31cb0bb7",
   "metadata": {},
   "outputs": [
    {
     "data": {
      "text/html": [
       "<div>\n",
       "<style scoped>\n",
       "    .dataframe tbody tr th:only-of-type {\n",
       "        vertical-align: middle;\n",
       "    }\n",
       "\n",
       "    .dataframe tbody tr th {\n",
       "        vertical-align: top;\n",
       "    }\n",
       "\n",
       "    .dataframe thead th {\n",
       "        text-align: right;\n",
       "    }\n",
       "</style>\n",
       "<table border=\"1\" class=\"dataframe\">\n",
       "  <thead>\n",
       "    <tr style=\"text-align: right;\">\n",
       "      <th></th>\n",
       "      <th>navCode</th>\n",
       "      <th>values_count</th>\n",
       "    </tr>\n",
       "  </thead>\n",
       "  <tbody>\n",
       "    <tr>\n",
       "      <th>0</th>\n",
       "      <td>16</td>\n",
       "      <td>1357985</td>\n",
       "    </tr>\n",
       "    <tr>\n",
       "      <th>1</th>\n",
       "      <td>0</td>\n",
       "      <td>1063676</td>\n",
       "    </tr>\n",
       "    <tr>\n",
       "      <th>2</th>\n",
       "      <td>5</td>\n",
       "      <td>554133</td>\n",
       "    </tr>\n",
       "    <tr>\n",
       "      <th>3</th>\n",
       "      <td>1</td>\n",
       "      <td>426433</td>\n",
       "    </tr>\n",
       "    <tr>\n",
       "      <th>4</th>\n",
       "      <td>15</td>\n",
       "      <td>29330</td>\n",
       "    </tr>\n",
       "    <tr>\n",
       "      <th>5</th>\n",
       "      <td>8</td>\n",
       "      <td>24889</td>\n",
       "    </tr>\n",
       "    <tr>\n",
       "      <th>6</th>\n",
       "      <td>3</td>\n",
       "      <td>8237</td>\n",
       "    </tr>\n",
       "    <tr>\n",
       "      <th>7</th>\n",
       "      <td>2</td>\n",
       "      <td>3471</td>\n",
       "    </tr>\n",
       "    <tr>\n",
       "      <th>8</th>\n",
       "      <td>4</td>\n",
       "      <td>1483</td>\n",
       "    </tr>\n",
       "    <tr>\n",
       "      <th>9</th>\n",
       "      <td>9</td>\n",
       "      <td>1359</td>\n",
       "    </tr>\n",
       "    <tr>\n",
       "      <th>10</th>\n",
       "      <td>11</td>\n",
       "      <td>1277</td>\n",
       "    </tr>\n",
       "    <tr>\n",
       "      <th>11</th>\n",
       "      <td>13</td>\n",
       "      <td>875</td>\n",
       "    </tr>\n",
       "    <tr>\n",
       "      <th>12</th>\n",
       "      <td>6</td>\n",
       "      <td>401</td>\n",
       "    </tr>\n",
       "    <tr>\n",
       "      <th>13</th>\n",
       "      <td>7</td>\n",
       "      <td>321</td>\n",
       "    </tr>\n",
       "    <tr>\n",
       "      <th>14</th>\n",
       "      <td>12</td>\n",
       "      <td>7</td>\n",
       "    </tr>\n",
       "  </tbody>\n",
       "</table>\n",
       "</div>"
      ],
      "text/plain": [
       "    navCode  values_count\n",
       "0        16       1357985\n",
       "1         0       1063676\n",
       "2         5        554133\n",
       "3         1        426433\n",
       "4        15         29330\n",
       "5         8         24889\n",
       "6         3          8237\n",
       "7         2          3471\n",
       "8         4          1483\n",
       "9         9          1359\n",
       "10       11          1277\n",
       "11       13           875\n",
       "12        6           401\n",
       "13        7           321\n",
       "14       12             7"
      ]
     },
     "execution_count": 149,
     "metadata": {},
     "output_type": "execute_result"
    }
   ],
   "source": [
    "dd = df[\"navCode\"].value_counts().sort_values(ascending = False).reset_index().rename(columns = {\"index\":\"navCode\",\"navCode\":\"values_count\"})\n",
    "dd"
   ]
  },
  {
   "cell_type": "code",
   "execution_count": 150,
   "id": "fafe4acf",
   "metadata": {},
   "outputs": [
    {
     "data": {
      "text/html": [
       "<div>\n",
       "<style scoped>\n",
       "    .dataframe tbody tr th:only-of-type {\n",
       "        vertical-align: middle;\n",
       "    }\n",
       "\n",
       "    .dataframe tbody tr th {\n",
       "        vertical-align: top;\n",
       "    }\n",
       "\n",
       "    .dataframe thead th {\n",
       "        text-align: right;\n",
       "    }\n",
       "</style>\n",
       "<table border=\"1\" class=\"dataframe\">\n",
       "  <thead>\n",
       "    <tr style=\"text-align: right;\">\n",
       "      <th></th>\n",
       "      <th>navDesc</th>\n",
       "      <th>values_count</th>\n",
       "    </tr>\n",
       "  </thead>\n",
       "  <tbody>\n",
       "    <tr>\n",
       "      <th>0</th>\n",
       "      <td>Unknown</td>\n",
       "      <td>1357985</td>\n",
       "    </tr>\n",
       "    <tr>\n",
       "      <th>1</th>\n",
       "      <td>Under Way Using Engine</td>\n",
       "      <td>1063676</td>\n",
       "    </tr>\n",
       "    <tr>\n",
       "      <th>2</th>\n",
       "      <td>Moored</td>\n",
       "      <td>554133</td>\n",
       "    </tr>\n",
       "    <tr>\n",
       "      <th>3</th>\n",
       "      <td>At Anchor</td>\n",
       "      <td>426433</td>\n",
       "    </tr>\n",
       "    <tr>\n",
       "      <th>4</th>\n",
       "      <td>Not Defined</td>\n",
       "      <td>29330</td>\n",
       "    </tr>\n",
       "    <tr>\n",
       "      <th>5</th>\n",
       "      <td>Underway Sailing</td>\n",
       "      <td>24889</td>\n",
       "    </tr>\n",
       "    <tr>\n",
       "      <th>6</th>\n",
       "      <td>Restricted Manoeuvrability</td>\n",
       "      <td>8237</td>\n",
       "    </tr>\n",
       "    <tr>\n",
       "      <th>7</th>\n",
       "      <td>Not Under Command</td>\n",
       "      <td>3471</td>\n",
       "    </tr>\n",
       "    <tr>\n",
       "      <th>8</th>\n",
       "      <td>Reserved For Future Use</td>\n",
       "      <td>2159</td>\n",
       "    </tr>\n",
       "    <tr>\n",
       "      <th>9</th>\n",
       "      <td>Constrained By Her Draught</td>\n",
       "      <td>1483</td>\n",
       "    </tr>\n",
       "    <tr>\n",
       "      <th>10</th>\n",
       "      <td>Reserved For Future Amendment</td>\n",
       "      <td>1359</td>\n",
       "    </tr>\n",
       "    <tr>\n",
       "      <th>11</th>\n",
       "      <td>Aground</td>\n",
       "      <td>401</td>\n",
       "    </tr>\n",
       "    <tr>\n",
       "      <th>12</th>\n",
       "      <td>Engaged In Fishing</td>\n",
       "      <td>321</td>\n",
       "    </tr>\n",
       "  </tbody>\n",
       "</table>\n",
       "</div>"
      ],
      "text/plain": [
       "                          navDesc  values_count\n",
       "0                         Unknown       1357985\n",
       "1          Under Way Using Engine       1063676\n",
       "2                          Moored        554133\n",
       "3                       At Anchor        426433\n",
       "4                     Not Defined         29330\n",
       "5                Underway Sailing         24889\n",
       "6      Restricted Manoeuvrability          8237\n",
       "7               Not Under Command          3471\n",
       "8         Reserved For Future Use          2159\n",
       "9      Constrained By Her Draught          1483\n",
       "10  Reserved For Future Amendment          1359\n",
       "11                        Aground           401\n",
       "12             Engaged In Fishing           321"
      ]
     },
     "execution_count": 150,
     "metadata": {},
     "output_type": "execute_result"
    }
   ],
   "source": [
    "dd = df[\"navDesc\"].value_counts().sort_values(ascending = False).reset_index().rename(columns = {\"index\":\"navDesc\",\"navDesc\":\"values_count\"})\n",
    "dd"
   ]
  },
  {
   "cell_type": "code",
   "execution_count": 151,
   "id": "30c80021",
   "metadata": {},
   "outputs": [
    {
     "data": {
      "text/html": [
       "<div>\n",
       "<style scoped>\n",
       "    .dataframe tbody tr th:only-of-type {\n",
       "        vertical-align: middle;\n",
       "    }\n",
       "\n",
       "    .dataframe tbody tr th {\n",
       "        vertical-align: top;\n",
       "    }\n",
       "\n",
       "    .dataframe thead th {\n",
       "        text-align: right;\n",
       "    }\n",
       "</style>\n",
       "<table border=\"1\" class=\"dataframe\">\n",
       "  <thead>\n",
       "    <tr style=\"text-align: right;\">\n",
       "      <th></th>\n",
       "      <th>port_name</th>\n",
       "      <th>mmsi</th>\n",
       "    </tr>\n",
       "  </thead>\n",
       "  <tbody>\n",
       "    <tr>\n",
       "      <th>0</th>\n",
       "      <td>SHANGHAI PT</td>\n",
       "      <td>25927</td>\n",
       "    </tr>\n",
       "  </tbody>\n",
       "</table>\n",
       "</div>"
      ],
      "text/plain": [
       "     port_name   mmsi\n",
       "0  SHANGHAI PT  25927"
      ]
     },
     "execution_count": 151,
     "metadata": {},
     "output_type": "execute_result"
    }
   ],
   "source": [
    "dd = df.groupby([\"port_name\"])[\"mmsi\"].nunique().sort_values(ascending = False).reset_index()\n",
    "dd"
   ]
  },
  {
   "cell_type": "code",
   "execution_count": 153,
   "id": "3887df78",
   "metadata": {},
   "outputs": [
    {
     "data": {
      "text/html": [
       "<div>\n",
       "<style scoped>\n",
       "    .dataframe tbody tr th:only-of-type {\n",
       "        vertical-align: middle;\n",
       "    }\n",
       "\n",
       "    .dataframe tbody tr th {\n",
       "        vertical-align: top;\n",
       "    }\n",
       "\n",
       "    .dataframe thead th {\n",
       "        text-align: right;\n",
       "    }\n",
       "</style>\n",
       "<table border=\"1\" class=\"dataframe\">\n",
       "  <thead>\n",
       "    <tr style=\"text-align: right;\">\n",
       "      <th></th>\n",
       "      <th>mmsi</th>\n",
       "      <th>navCode</th>\n",
       "    </tr>\n",
       "  </thead>\n",
       "  <tbody>\n",
       "    <tr>\n",
       "      <th>0</th>\n",
       "      <td>538004601</td>\n",
       "      <td>5</td>\n",
       "    </tr>\n",
       "    <tr>\n",
       "      <th>1</th>\n",
       "      <td>432926000</td>\n",
       "      <td>5</td>\n",
       "    </tr>\n",
       "    <tr>\n",
       "      <th>2</th>\n",
       "      <td>477302900</td>\n",
       "      <td>5</td>\n",
       "    </tr>\n",
       "    <tr>\n",
       "      <th>3</th>\n",
       "      <td>413954961</td>\n",
       "      <td>5</td>\n",
       "    </tr>\n",
       "    <tr>\n",
       "      <th>4</th>\n",
       "      <td>636014203</td>\n",
       "      <td>5</td>\n",
       "    </tr>\n",
       "    <tr>\n",
       "      <th>...</th>\n",
       "      <td>...</td>\n",
       "      <td>...</td>\n",
       "    </tr>\n",
       "    <tr>\n",
       "      <th>25922</th>\n",
       "      <td>413360330</td>\n",
       "      <td>1</td>\n",
       "    </tr>\n",
       "    <tr>\n",
       "      <th>25923</th>\n",
       "      <td>413360320</td>\n",
       "      <td>1</td>\n",
       "    </tr>\n",
       "    <tr>\n",
       "      <th>25924</th>\n",
       "      <td>413360310</td>\n",
       "      <td>1</td>\n",
       "    </tr>\n",
       "    <tr>\n",
       "      <th>25925</th>\n",
       "      <td>413360290</td>\n",
       "      <td>1</td>\n",
       "    </tr>\n",
       "    <tr>\n",
       "      <th>25926</th>\n",
       "      <td>701402207</td>\n",
       "      <td>1</td>\n",
       "    </tr>\n",
       "  </tbody>\n",
       "</table>\n",
       "<p>25927 rows × 2 columns</p>\n",
       "</div>"
      ],
      "text/plain": [
       "            mmsi  navCode\n",
       "0      538004601        5\n",
       "1      432926000        5\n",
       "2      477302900        5\n",
       "3      413954961        5\n",
       "4      636014203        5\n",
       "...          ...      ...\n",
       "25922  413360330        1\n",
       "25923  413360320        1\n",
       "25924  413360310        1\n",
       "25925  413360290        1\n",
       "25926  701402207        1\n",
       "\n",
       "[25927 rows x 2 columns]"
      ]
     },
     "execution_count": 153,
     "metadata": {},
     "output_type": "execute_result"
    }
   ],
   "source": [
    "dd = df.groupby([\"mmsi\"])[\"navCode\"].nunique().sort_values(ascending = False).reset_index()\n",
    "dd"
   ]
  },
  {
   "cell_type": "markdown",
   "id": "ad3bd6b5",
   "metadata": {},
   "source": [
    "# 7. For MMSI = 205792000"
   ]
  },
  {
   "cell_type": "code",
   "execution_count": 67,
   "id": "418aed4c",
   "metadata": {},
   "outputs": [],
   "source": [
    "df_205792000 = df[df[\"mmsi\"] == 205792000]  # filter the data belongs to MMSI 205792000"
   ]
  },
  {
   "cell_type": "markdown",
   "id": "6fa9122c",
   "metadata": {},
   "source": [
    "## 7 a.   Limit the data to only the TOP 5 Navigation Codes based from the response to question 6\n"
   ]
  },
  {
   "cell_type": "code",
   "execution_count": 159,
   "id": "d9173899",
   "metadata": {},
   "outputs": [
    {
     "name": "stderr",
     "output_type": "stream",
     "text": [
      "/Users/varun/opt/anaconda3/lib/python3.8/site-packages/seaborn/_decorators.py:36: FutureWarning: Pass the following variables as keyword args: x, y. From version 0.12, the only valid positional argument will be `data`, and passing other arguments without an explicit keyword will result in an error or misinterpretation.\n",
      "  warnings.warn(\n"
     ]
    },
    {
     "data": {
      "text/plain": [
       "<AxesSubplot:xlabel='navCode', ylabel='counts'>"
      ]
     },
     "execution_count": 159,
     "metadata": {},
     "output_type": "execute_result"
    },
    {
     "data": {
      "image/png": "[encoded data removed]",
      "text/plain": [
       "<Figure size 1080x576 with 1 Axes>"
      ]
     },
     "metadata": {
      "needs_background": "light"
     },
     "output_type": "display_data"
    }
   ],
   "source": [
    "dd=df_205792000[\"navCode\"].value_counts().sort_values(ascending=False).reset_index()[:5].rename(columns = {'index':\"navCode\",\"navCode\":\"counts\"})\n",
    "plt.figure(figsize=[15,8])\n",
    "sns.barplot(\"navCode\",\"counts\",data=dd)"
   ]
  },
  {
   "cell_type": "code",
   "execution_count": 160,
   "id": "e561340b",
   "metadata": {},
   "outputs": [
    {
     "name": "stderr",
     "output_type": "stream",
     "text": [
      "/Users/varun/opt/anaconda3/lib/python3.8/site-packages/seaborn/_decorators.py:36: FutureWarning: Pass the following variables as keyword args: x, y. From version 0.12, the only valid positional argument will be `data`, and passing other arguments without an explicit keyword will result in an error or misinterpretation.\n",
      "  warnings.warn(\n"
     ]
    },
    {
     "data": {
      "text/plain": [
       "<AxesSubplot:xlabel='navDesc', ylabel='counts'>"
      ]
     },
     "execution_count": 160,
     "metadata": {},
     "output_type": "execute_result"
    },
    {
     "data": {
      "image/png": "[encoded data removed]",
      "text/plain": [
       "<Figure size 1080x576 with 1 Axes>"
      ]
     },
     "metadata": {
      "needs_background": "light"
     },
     "output_type": "display_data"
    }
   ],
   "source": [
    "dd=df_205792000[\"navDesc\"].value_counts().sort_values(ascending=False).reset_index()[:5].rename(columns = {'index':\"navDesc\",\"navDesc\":\"counts\"})\n",
    "plt.figure(figsize=[15,8])\n",
    "sns.barplot(\"navDesc\",\"counts\",data=dd)"
   ]
  },
  {
   "cell_type": "markdown",
   "id": "a52d975a",
   "metadata": {},
   "source": [
    "### 7.b.   Provide the final state for each series of contiguous events with the same Navigation Code; series may be interrupted by other series, but each contiguous series must be its own record."
   ]
  },
  {
   "cell_type": "code",
   "execution_count": 71,
   "id": "30656e99",
   "metadata": {},
   "outputs": [
    {
     "name": "stderr",
     "output_type": "stream",
     "text": [
      "<ipython-input-71-117ad7da42b1>:1: SettingWithCopyWarning: \n",
      "A value is trying to be set on a copy of a slice from a DataFrame.\n",
      "Try using .loc[row_indexer,col_indexer] = value instead\n",
      "\n",
      "See the caveats in the documentation: https://pandas.pydata.org/pandas-docs/stable/user_guide/indexing.html#returning-a-view-versus-a-copy\n",
      "  df_205792000['city']=np.nan\n",
      "/Users/varun/opt/anaconda3/lib/python3.8/site-packages/pandas/core/indexing.py:1637: SettingWithCopyWarning: \n",
      "A value is trying to be set on a copy of a slice from a DataFrame\n",
      "\n",
      "See the caveats in the documentation: https://pandas.pydata.org/pandas-docs/stable/user_guide/indexing.html#returning-a-view-versus-a-copy\n",
      "  self._setitem_single_block(indexer, value, name)\n",
      "/Users/varun/opt/anaconda3/lib/python3.8/site-packages/pandas/core/indexing.py:692: SettingWithCopyWarning: \n",
      "A value is trying to be set on a copy of a slice from a DataFrame\n",
      "\n",
      "See the caveats in the documentation: https://pandas.pydata.org/pandas-docs/stable/user_guide/indexing.html#returning-a-view-versus-a-copy\n",
      "  iloc._setitem_with_indexer(indexer, value, self.name)\n"
     ]
    }
   ],
   "source": [
    "df_205792000['city']=np.nan\n",
    "for i in range (0,len(df_205792000['latitude'])):\n",
    "    try:\n",
    "        location=geolocator.reverse(str(df['latitude'][i])+\",\"+str(df['longitude'][i]))\n",
    "        df_205792000['city'].iloc[i]=pinyin.get(location.raw.get('address').get('city'))\n",
    "    except:\n",
    "        pass"
   ]
  },
  {
   "cell_type": "code",
   "execution_count": 155,
   "id": "499c413d",
   "metadata": {},
   "outputs": [
    {
     "data": {
      "text/html": [
       "<div>\n",
       "<style scoped>\n",
       "    .dataframe tbody tr th:only-of-type {\n",
       "        vertical-align: middle;\n",
       "    }\n",
       "\n",
       "    .dataframe tbody tr th {\n",
       "        vertical-align: top;\n",
       "    }\n",
       "\n",
       "    .dataframe thead th {\n",
       "        text-align: right;\n",
       "    }\n",
       "</style>\n",
       "<table border=\"1\" class=\"dataframe\">\n",
       "  <thead>\n",
       "    <tr style=\"text-align: right;\">\n",
       "      <th></th>\n",
       "      <th>mmsi</th>\n",
       "      <th>navCode</th>\n",
       "      <th>epochMillis</th>\n",
       "      <th>navDesc</th>\n",
       "      <th>latitude</th>\n",
       "      <th>longitude</th>\n",
       "      <th>city</th>\n",
       "    </tr>\n",
       "  </thead>\n",
       "  <tbody>\n",
       "    <tr>\n",
       "      <th>0</th>\n",
       "      <td>205792000</td>\n",
       "      <td>0</td>\n",
       "      <td>2020-03-25 09:51:28</td>\n",
       "      <td>Under Way Using Engine</td>\n",
       "      <td>31.074333</td>\n",
       "      <td>122.77600</td>\n",
       "      <td>zhōushānshì</td>\n",
       "    </tr>\n",
       "    <tr>\n",
       "      <th>1</th>\n",
       "      <td>205792000</td>\n",
       "      <td>1</td>\n",
       "      <td>2020-03-23 21:49:31</td>\n",
       "      <td>At Anchor</td>\n",
       "      <td>31.264334</td>\n",
       "      <td>122.66950</td>\n",
       "      <td>zhōushānshì</td>\n",
       "    </tr>\n",
       "    <tr>\n",
       "      <th>2</th>\n",
       "      <td>205792000</td>\n",
       "      <td>5</td>\n",
       "      <td>2020-03-25 03:32:21</td>\n",
       "      <td>Moored</td>\n",
       "      <td>31.377500</td>\n",
       "      <td>121.57383</td>\n",
       "      <td>pǔdōngxīnqū</td>\n",
       "    </tr>\n",
       "  </tbody>\n",
       "</table>\n",
       "</div>"
      ],
      "text/plain": [
       "        mmsi  navCode         epochMillis                 navDesc   latitude  \\\n",
       "0  205792000        0 2020-03-25 09:51:28  Under Way Using Engine  31.074333   \n",
       "1  205792000        1 2020-03-23 21:49:31               At Anchor  31.264334   \n",
       "2  205792000        5 2020-03-25 03:32:21                  Moored  31.377500   \n",
       "\n",
       "   longitude         city  \n",
       "0  122.77600  zhōushānshì  \n",
       "1  122.66950  zhōushānshì  \n",
       "2  121.57383  pǔdōngxīnqū  "
      ]
     },
     "execution_count": 155,
     "metadata": {},
     "output_type": "execute_result"
    }
   ],
   "source": [
    "df_205792000.groupby([\"mmsi\",\"navCode\"])[\"epochMillis\"].max().reset_index().merge(df_205792000[[\"epochMillis\",\"mmsi\",\"navCode\",\"navDesc\",\"latitude\",\"longitude\",\"city\"]],on=[\"mmsi\",\"navCode\",'epochMillis'],how=\"inner\")\n",
    "\n"
   ]
  },
  {
   "cell_type": "markdown",
   "id": "d964b741",
   "metadata": {},
   "source": [
    "### 7.c.   Final report should include at least the following fields/columns:\n",
    "### i.   mmsi = the MMSI of the vessel\n",
    "### ii.   timestamp = the timestamp of the last event in that contiguous series\n",
    "### iii.   Navigation Code = the navigation code (i.e., navigation.navCode)\n",
    "### iv.   Navigation Description = the navigation code description (i.e., navigation.navDesc)\n",
    "### v.   lead time (in Milliseconds) = the time difference in milliseconds between the last and first timestamp of that particular series of the same contiguous navigation codes\n"
   ]
  },
  {
   "cell_type": "code",
   "execution_count": 156,
   "id": "13940733",
   "metadata": {},
   "outputs": [],
   "source": [
    "dff=df_205792000.groupby([\"mmsi\",\"navCode\",\"navDesc\"])[\"epochMillis\"].max().reset_index().rename(columns={\"epochMillis\":\"last_event\"})\n",
    "dff[\"lead_time_in_ms\"]=np.nan"
   ]
  },
  {
   "cell_type": "code",
   "execution_count": 157,
   "id": "cc0d28e5",
   "metadata": {},
   "outputs": [],
   "source": [
    "dff[\"lead_time_in_ms\"]=df_205792000.groupby([\"mmsi\",\"navCode\"])[\"epochMillis\"].max().reset_index()[[\"epochMillis\"]]-df_205792000.groupby([\"mmsi\",\"navCode\"])[\"epochMillis\"].min().reset_index()[[\"epochMillis\"]]"
   ]
  },
  {
   "cell_type": "code",
   "execution_count": 158,
   "id": "a519cd4c",
   "metadata": {},
   "outputs": [
    {
     "data": {
      "text/html": [
       "<div>\n",
       "<style scoped>\n",
       "    .dataframe tbody tr th:only-of-type {\n",
       "        vertical-align: middle;\n",
       "    }\n",
       "\n",
       "    .dataframe tbody tr th {\n",
       "        vertical-align: top;\n",
       "    }\n",
       "\n",
       "    .dataframe thead th {\n",
       "        text-align: right;\n",
       "    }\n",
       "</style>\n",
       "<table border=\"1\" class=\"dataframe\">\n",
       "  <thead>\n",
       "    <tr style=\"text-align: right;\">\n",
       "      <th></th>\n",
       "      <th>mmsi</th>\n",
       "      <th>navCode</th>\n",
       "      <th>navDesc</th>\n",
       "      <th>last_event</th>\n",
       "      <th>lead_time_in_ms</th>\n",
       "    </tr>\n",
       "  </thead>\n",
       "  <tbody>\n",
       "    <tr>\n",
       "      <th>0</th>\n",
       "      <td>205792000</td>\n",
       "      <td>0</td>\n",
       "      <td>Under Way Using Engine</td>\n",
       "      <td>2020-03-25 09:51:28</td>\n",
       "      <td>1 days 11:42:08</td>\n",
       "    </tr>\n",
       "    <tr>\n",
       "      <th>1</th>\n",
       "      <td>205792000</td>\n",
       "      <td>1</td>\n",
       "      <td>At Anchor</td>\n",
       "      <td>2020-03-23 21:49:31</td>\n",
       "      <td>0 days 13:30:00</td>\n",
       "    </tr>\n",
       "    <tr>\n",
       "      <th>2</th>\n",
       "      <td>205792000</td>\n",
       "      <td>5</td>\n",
       "      <td>Moored</td>\n",
       "      <td>2020-03-25 03:32:21</td>\n",
       "      <td>1 days 20:08:43</td>\n",
       "    </tr>\n",
       "  </tbody>\n",
       "</table>\n",
       "</div>"
      ],
      "text/plain": [
       "        mmsi  navCode                 navDesc          last_event  \\\n",
       "0  205792000        0  Under Way Using Engine 2020-03-25 09:51:28   \n",
       "1  205792000        1               At Anchor 2020-03-23 21:49:31   \n",
       "2  205792000        5                  Moored 2020-03-25 03:32:21   \n",
       "\n",
       "  lead_time_in_ms  \n",
       "0 1 days 11:42:08  \n",
       "1 0 days 13:30:00  \n",
       "2 1 days 20:08:43  "
      ]
     },
     "execution_count": 158,
     "metadata": {},
     "output_type": "execute_result"
    }
   ],
   "source": [
    "dff"
   ]
  },
  {
   "cell_type": "markdown",
   "id": "f975151c",
   "metadata": {},
   "source": [
    "# 8.For MMSI = 413970021"
   ]
  },
  {
   "cell_type": "code",
   "execution_count": 76,
   "id": "1cddc872",
   "metadata": {},
   "outputs": [],
   "source": [
    "df_413970021 = df[df[\"mmsi\"] == 413970021]"
   ]
  },
  {
   "cell_type": "markdown",
   "id": "ca4427f2",
   "metadata": {},
   "source": [
    "## 8 a.   Limit the data to only the TOP 5 Navigation Codes based from the response to question 6\n",
    "\n"
   ]
  },
  {
   "cell_type": "code",
   "execution_count": 77,
   "id": "0b3be741",
   "metadata": {},
   "outputs": [
    {
     "name": "stderr",
     "output_type": "stream",
     "text": [
      "/Users/varun/opt/anaconda3/lib/python3.8/site-packages/seaborn/_decorators.py:36: FutureWarning: Pass the following variables as keyword args: x, y. From version 0.12, the only valid positional argument will be `data`, and passing other arguments without an explicit keyword will result in an error or misinterpretation.\n",
      "  warnings.warn(\n"
     ]
    },
    {
     "data": {
      "text/plain": [
       "<AxesSubplot:xlabel='navCode', ylabel='counts'>"
      ]
     },
     "execution_count": 77,
     "metadata": {},
     "output_type": "execute_result"
    },
    {
     "data": {
      "image/png": "[encoded data removed]",
      "text/plain": [
       "<Figure size 1080x576 with 1 Axes>"
      ]
     },
     "metadata": {
      "needs_background": "light"
     },
     "output_type": "display_data"
    }
   ],
   "source": [
    "dd=df_413970021[\"navCode\"].value_counts().sort_values(ascending=False).reset_index()[:5].rename(columns = {'index':\"navCode\",\"navCode\":\"counts\"})\n",
    "plt.figure(figsize=[15,8])\n",
    "sns.barplot(\"navCode\",\"counts\",data=dd)"
   ]
  },
  {
   "cell_type": "code",
   "execution_count": 78,
   "id": "0cd8e5dd",
   "metadata": {},
   "outputs": [
    {
     "name": "stderr",
     "output_type": "stream",
     "text": [
      "/Users/varun/opt/anaconda3/lib/python3.8/site-packages/seaborn/_decorators.py:36: FutureWarning: Pass the following variables as keyword args: x, y. From version 0.12, the only valid positional argument will be `data`, and passing other arguments without an explicit keyword will result in an error or misinterpretation.\n",
      "  warnings.warn(\n"
     ]
    },
    {
     "data": {
      "text/plain": [
       "<AxesSubplot:xlabel='navDesc', ylabel='counts'>"
      ]
     },
     "execution_count": 78,
     "metadata": {},
     "output_type": "execute_result"
    },
    {
     "data": {
      "image/png": "[encoded data removed]",
      "text/plain": [
       "<Figure size 1080x576 with 1 Axes>"
      ]
     },
     "metadata": {
      "needs_background": "light"
     },
     "output_type": "display_data"
    }
   ],
   "source": [
    "dd=df_413970021[\"navDesc\"].value_counts().sort_values(ascending=False).reset_index()[:5].rename(columns = {'index':\"navDesc\",\"navDesc\":\"counts\"})\n",
    "plt.figure(figsize=[15,8])\n",
    "sns.barplot(\"navDesc\",\"counts\",data=dd)"
   ]
  },
  {
   "cell_type": "markdown",
   "id": "7f9758f4",
   "metadata": {},
   "source": [
    "### 8.b.   Provide the final state for each series of contiguous events with the same Navigation Code; series may be interrupted by other series, but each contiguous series must be its own record."
   ]
  },
  {
   "cell_type": "code",
   "execution_count": 79,
   "id": "98f7834a",
   "metadata": {},
   "outputs": [
    {
     "name": "stderr",
     "output_type": "stream",
     "text": [
      "<ipython-input-79-b1d489174aa9>:1: SettingWithCopyWarning: \n",
      "A value is trying to be set on a copy of a slice from a DataFrame.\n",
      "Try using .loc[row_indexer,col_indexer] = value instead\n",
      "\n",
      "See the caveats in the documentation: https://pandas.pydata.org/pandas-docs/stable/user_guide/indexing.html#returning-a-view-versus-a-copy\n",
      "  df_413970021['city']=np.nan\n"
     ]
    }
   ],
   "source": [
    "df_413970021['city']=np.nan\n",
    "for i in range (0,len(df_413970021['latitude'])):\n",
    "    try:\n",
    "        location=geolocator.reverse(str(df['latitude'][i])+\",\"+str(df_413970021['longitude'][i]))\n",
    "        ddf_413970021['city'].iloc[i]=pinyin.get(location.raw.get('address').get('city'))\n",
    "    except:\n",
    "        pass"
   ]
  },
  {
   "cell_type": "code",
   "execution_count": 80,
   "id": "867d5604",
   "metadata": {},
   "outputs": [
    {
     "data": {
      "text/html": [
       "<div>\n",
       "<style scoped>\n",
       "    .dataframe tbody tr th:only-of-type {\n",
       "        vertical-align: middle;\n",
       "    }\n",
       "\n",
       "    .dataframe tbody tr th {\n",
       "        vertical-align: top;\n",
       "    }\n",
       "\n",
       "    .dataframe thead th {\n",
       "        text-align: right;\n",
       "    }\n",
       "</style>\n",
       "<table border=\"1\" class=\"dataframe\">\n",
       "  <thead>\n",
       "    <tr style=\"text-align: right;\">\n",
       "      <th></th>\n",
       "      <th>mmsi</th>\n",
       "      <th>navCode</th>\n",
       "      <th>epochMillis</th>\n",
       "      <th>navDesc</th>\n",
       "      <th>latitude</th>\n",
       "      <th>longitude</th>\n",
       "      <th>city</th>\n",
       "    </tr>\n",
       "  </thead>\n",
       "  <tbody>\n",
       "    <tr>\n",
       "      <th>0</th>\n",
       "      <td>413970021</td>\n",
       "      <td>16</td>\n",
       "      <td>2019-03-29 20:16:09</td>\n",
       "      <td>Unknown</td>\n",
       "      <td>31.683237</td>\n",
       "      <td>121.19696</td>\n",
       "      <td>NaN</td>\n",
       "    </tr>\n",
       "  </tbody>\n",
       "</table>\n",
       "</div>"
      ],
      "text/plain": [
       "        mmsi  navCode         epochMillis  navDesc   latitude  longitude  city\n",
       "0  413970021       16 2019-03-29 20:16:09  Unknown  31.683237  121.19696   NaN"
      ]
     },
     "execution_count": 80,
     "metadata": {},
     "output_type": "execute_result"
    }
   ],
   "source": [
    "df_413970021.groupby([\"mmsi\",\"navCode\"])[\"epochMillis\"].max().reset_index().merge(df_413970021[[\"epochMillis\",\"mmsi\",\"navCode\",\"navDesc\",\"latitude\",\"longitude\",\"city\"]],on=[\"mmsi\",\"navCode\",'epochMillis'],how=\"inner\")\n",
    "\n",
    "\n",
    "\n"
   ]
  },
  {
   "cell_type": "markdown",
   "id": "627272a6",
   "metadata": {},
   "source": [
    "### 8.c.   Final report should include at least the following fields/columns:\n",
    "### i.   mmsi = the MMSI of the vessel\n",
    "### ii.   timestamp = the timestamp of the last event in that contiguous series\n",
    "### iii.   Navigation Code = the navigation code (i.e., navigation.navCode)\n",
    "### iv.   Navigation Description = the navigation code description (i.e., navigation.navDesc)\n",
    "### v.   lead time (in Milliseconds) = the time difference in milliseconds between the last and first timestamp of that particular series of the same contiguous navigation codes\n",
    "\n"
   ]
  },
  {
   "cell_type": "code",
   "execution_count": 81,
   "id": "b03e35bf",
   "metadata": {},
   "outputs": [],
   "source": [
    "dff=df_413970021.groupby([\"mmsi\",\"navCode\",\"navDesc\"])[\"epochMillis\"].max().reset_index().rename(columns={\"epochMillis\":\"last_event\"})\n",
    "dff[\"lead_time_in_ms\"]=np.nan"
   ]
  },
  {
   "cell_type": "code",
   "execution_count": 82,
   "id": "3ef50fb0",
   "metadata": {},
   "outputs": [],
   "source": [
    "dff[\"lead_time_in_ms\"]=df_413970021.groupby([\"mmsi\",\"navCode\"])[\"epochMillis\"].max().reset_index()[[\"epochMillis\"]]-df_413970021.groupby([\"mmsi\",\"navCode\"])[\"epochMillis\"].min().reset_index()[[\"epochMillis\"]]\n",
    "\n",
    "\n"
   ]
  },
  {
   "cell_type": "code",
   "execution_count": 83,
   "id": "1b00ce57",
   "metadata": {},
   "outputs": [
    {
     "data": {
      "text/html": [
       "<div>\n",
       "<style scoped>\n",
       "    .dataframe tbody tr th:only-of-type {\n",
       "        vertical-align: middle;\n",
       "    }\n",
       "\n",
       "    .dataframe tbody tr th {\n",
       "        vertical-align: top;\n",
       "    }\n",
       "\n",
       "    .dataframe thead th {\n",
       "        text-align: right;\n",
       "    }\n",
       "</style>\n",
       "<table border=\"1\" class=\"dataframe\">\n",
       "  <thead>\n",
       "    <tr style=\"text-align: right;\">\n",
       "      <th></th>\n",
       "      <th>mmsi</th>\n",
       "      <th>navCode</th>\n",
       "      <th>navDesc</th>\n",
       "      <th>last_event</th>\n",
       "      <th>lead_time_in_ms</th>\n",
       "    </tr>\n",
       "  </thead>\n",
       "  <tbody>\n",
       "    <tr>\n",
       "      <th>0</th>\n",
       "      <td>413970021</td>\n",
       "      <td>16</td>\n",
       "      <td>Unknown</td>\n",
       "      <td>2019-03-29 20:16:09</td>\n",
       "      <td>6 days 20:26:15</td>\n",
       "    </tr>\n",
       "  </tbody>\n",
       "</table>\n",
       "</div>"
      ],
      "text/plain": [
       "        mmsi  navCode  navDesc          last_event lead_time_in_ms\n",
       "0  413970021       16  Unknown 2019-03-29 20:16:09 6 days 20:26:15"
      ]
     },
     "execution_count": 83,
     "metadata": {},
     "output_type": "execute_result"
    }
   ],
   "source": [
    "dff"
   ]
  },
  {
   "cell_type": "markdown",
   "id": "f6e34624",
   "metadata": {},
   "source": [
    "## 8 a.   Do you agree with the Navigation Code(s) and Description(s) for this particular vessel?   \n",
    "#### ii.   If you do not agree, provide an explanation why do disagree. Additionally, if you do not agree, what would you change it to and why?\n",
    "#### answer  :  i dont agree becuase vessel should have the nav code and nav desc in order to keep the track of status of the vessel, weather it was Under Way Using Engine,At Anchor or Moored\n"
   ]
  },
  {
   "cell_type": "markdown",
   "id": "752177a2",
   "metadata": {},
   "source": [
    "# ML modelling"
   ]
  },
  {
   "cell_type": "code",
   "execution_count": 184,
   "id": "f62ca3c8",
   "metadata": {},
   "outputs": [
    {
     "ename": "DataError",
     "evalue": "No numeric types to aggregate",
     "output_type": "error",
     "traceback": [
      "\u001b[0;31m---------------------------------------------------------------------------\u001b[0m",
      "\u001b[0;31mDataError\u001b[0m                                 Traceback (most recent call last)",
      "\u001b[0;32m<ipython-input-184-c6bd8a1d72ae>\u001b[0m in \u001b[0;36m<module>\u001b[0;34m\u001b[0m\n\u001b[1;32m      5\u001b[0m \u001b[0mdf_m\u001b[0m\u001b[0;34m=\u001b[0m\u001b[0mdf_m\u001b[0m\u001b[0;34m[\u001b[0m\u001b[0;34m(\u001b[0m\u001b[0mdf_m\u001b[0m\u001b[0;34m[\u001b[0m\u001b[0;34m\"navDesc\"\u001b[0m\u001b[0;34m]\u001b[0m\u001b[0;34m==\u001b[0m\u001b[0;34m'At Anchor'\u001b[0m\u001b[0;34m)\u001b[0m \u001b[0;34m^\u001b[0m \u001b[0;34m(\u001b[0m\u001b[0mdf_m\u001b[0m\u001b[0;34m[\u001b[0m\u001b[0;34m\"navDesc\"\u001b[0m\u001b[0;34m]\u001b[0m\u001b[0;34m==\u001b[0m\u001b[0;34m'Moored'\u001b[0m\u001b[0;34m)\u001b[0m\u001b[0;34m]\u001b[0m\u001b[0;34m\u001b[0m\u001b[0;34m\u001b[0m\u001b[0m\n\u001b[1;32m      6\u001b[0m \u001b[0;34m\u001b[0m\u001b[0m\n\u001b[0;32m----> 7\u001b[0;31m \u001b[0mdf_m\u001b[0m\u001b[0;34m.\u001b[0m\u001b[0mgroupby\u001b[0m\u001b[0;34m(\u001b[0m\u001b[0;34m[\u001b[0m\u001b[0;34m\"mmsi\"\u001b[0m\u001b[0;34m]\u001b[0m\u001b[0;34m)\u001b[0m\u001b[0;34m[\u001b[0m\u001b[0;34m\"dwell_time\"\u001b[0m\u001b[0;34m]\u001b[0m\u001b[0;34m.\u001b[0m\u001b[0mmean\u001b[0m\u001b[0;34m(\u001b[0m\u001b[0;34m)\u001b[0m\u001b[0;34m\u001b[0m\u001b[0;34m\u001b[0m\u001b[0m\n\u001b[0m\u001b[1;32m      8\u001b[0m \u001b[0;34m\u001b[0m\u001b[0m\n",
      "\u001b[0;32m~/opt/anaconda3/lib/python3.8/site-packages/pandas/core/groupby/groupby.py\u001b[0m in \u001b[0;36mmean\u001b[0;34m(self, numeric_only)\u001b[0m\n\u001b[1;32m   1494\u001b[0m         \u001b[0mName\u001b[0m\u001b[0;34m:\u001b[0m \u001b[0mB\u001b[0m\u001b[0;34m,\u001b[0m \u001b[0mdtype\u001b[0m\u001b[0;34m:\u001b[0m \u001b[0mfloat64\u001b[0m\u001b[0;34m\u001b[0m\u001b[0;34m\u001b[0m\u001b[0m\n\u001b[1;32m   1495\u001b[0m         \"\"\"\n\u001b[0;32m-> 1496\u001b[0;31m         return self._cython_agg_general(\n\u001b[0m\u001b[1;32m   1497\u001b[0m             \u001b[0;34m\"mean\"\u001b[0m\u001b[0;34m,\u001b[0m\u001b[0;34m\u001b[0m\u001b[0;34m\u001b[0m\u001b[0m\n\u001b[1;32m   1498\u001b[0m             \u001b[0malt\u001b[0m\u001b[0;34m=\u001b[0m\u001b[0;32mlambda\u001b[0m \u001b[0mx\u001b[0m\u001b[0;34m,\u001b[0m \u001b[0maxis\u001b[0m\u001b[0;34m:\u001b[0m \u001b[0mSeries\u001b[0m\u001b[0;34m(\u001b[0m\u001b[0mx\u001b[0m\u001b[0;34m)\u001b[0m\u001b[0;34m.\u001b[0m\u001b[0mmean\u001b[0m\u001b[0;34m(\u001b[0m\u001b[0mnumeric_only\u001b[0m\u001b[0;34m=\u001b[0m\u001b[0mnumeric_only\u001b[0m\u001b[0;34m)\u001b[0m\u001b[0;34m,\u001b[0m\u001b[0;34m\u001b[0m\u001b[0;34m\u001b[0m\u001b[0m\n",
      "\u001b[0;32m~/opt/anaconda3/lib/python3.8/site-packages/pandas/core/groupby/groupby.py\u001b[0m in \u001b[0;36m_cython_agg_general\u001b[0;34m(self, how, alt, numeric_only, min_count)\u001b[0m\n\u001b[1;32m   1079\u001b[0m \u001b[0;34m\u001b[0m\u001b[0m\n\u001b[1;32m   1080\u001b[0m         \u001b[0;32mif\u001b[0m \u001b[0;32mnot\u001b[0m \u001b[0moutput\u001b[0m\u001b[0;34m:\u001b[0m\u001b[0;34m\u001b[0m\u001b[0;34m\u001b[0m\u001b[0m\n\u001b[0;32m-> 1081\u001b[0;31m             \u001b[0;32mraise\u001b[0m \u001b[0mDataError\u001b[0m\u001b[0;34m(\u001b[0m\u001b[0;34m\"No numeric types to aggregate\"\u001b[0m\u001b[0;34m)\u001b[0m\u001b[0;34m\u001b[0m\u001b[0;34m\u001b[0m\u001b[0m\n\u001b[0m\u001b[1;32m   1082\u001b[0m \u001b[0;34m\u001b[0m\u001b[0m\n\u001b[1;32m   1083\u001b[0m         \u001b[0;32mreturn\u001b[0m \u001b[0mself\u001b[0m\u001b[0;34m.\u001b[0m\u001b[0m_wrap_aggregated_output\u001b[0m\u001b[0;34m(\u001b[0m\u001b[0moutput\u001b[0m\u001b[0;34m,\u001b[0m \u001b[0mindex\u001b[0m\u001b[0;34m=\u001b[0m\u001b[0mself\u001b[0m\u001b[0;34m.\u001b[0m\u001b[0mgrouper\u001b[0m\u001b[0;34m.\u001b[0m\u001b[0mresult_index\u001b[0m\u001b[0;34m)\u001b[0m\u001b[0;34m\u001b[0m\u001b[0;34m\u001b[0m\u001b[0m\n",
      "\u001b[0;31mDataError\u001b[0m: No numeric types to aggregate"
     ]
    }
   ],
   "source": [
    "\n",
    "\n",
    "df_m[\"dwell_time\"]=df.groupby([\"mmsi\",\"navDesc\"])[\"epochMillis\"].max().reset_index()[\"epochMillis\"]-df.groupby([\"mmsi\",\"navDesc\"])[\"epochMillis\"].min().reset_index()[\"epochMillis\"]\n",
    "\n",
    "\n",
    "\n",
    "df_m=df_m[(df_m[\"navDesc\"]=='At Anchor') ^ (df_m[\"navDesc\"]=='Moored')]\n",
    "\n",
    "df_m.groupby([\"mmsi\"])[\"dwell_time\"].mean()\n",
    "\n"
   ]
  },
  {
   "cell_type": "code",
   "execution_count": 186,
   "id": "155c6e01",
   "metadata": {},
   "outputs": [
    {
     "ename": "TypeError",
     "evalue": "dtype timedelta64[ns] cannot be converted to datetime64[ns]",
     "output_type": "error",
     "traceback": [
      "\u001b[0;31m---------------------------------------------------------------------------\u001b[0m",
      "\u001b[0;31mTypeError\u001b[0m                                 Traceback (most recent call last)",
      "\u001b[0;32m<ipython-input-186-ba1358df01b3>\u001b[0m in \u001b[0;36m<module>\u001b[0;34m\u001b[0m\n\u001b[0;32m----> 1\u001b[0;31m \u001b[0mdf_m\u001b[0m\u001b[0;34m[\u001b[0m\u001b[0;34m\"dwell_time\"\u001b[0m\u001b[0;34m]\u001b[0m\u001b[0;34m=\u001b[0m\u001b[0mpd\u001b[0m\u001b[0;34m.\u001b[0m\u001b[0mto_datetime\u001b[0m\u001b[0;34m(\u001b[0m\u001b[0mdf_m\u001b[0m\u001b[0;34m[\u001b[0m\u001b[0;34m\"dwell_time\"\u001b[0m\u001b[0;34m]\u001b[0m\u001b[0;34m)\u001b[0m\u001b[0;34m\u001b[0m\u001b[0;34m\u001b[0m\u001b[0m\n\u001b[0m",
      "\u001b[0;32m~/opt/anaconda3/lib/python3.8/site-packages/pandas/core/tools/datetimes.py\u001b[0m in \u001b[0;36mto_datetime\u001b[0;34m(arg, errors, dayfirst, yearfirst, utc, format, exact, unit, infer_datetime_format, origin, cache)\u001b[0m\n\u001b[1;32m    803\u001b[0m             \u001b[0mresult\u001b[0m \u001b[0;34m=\u001b[0m \u001b[0marg\u001b[0m\u001b[0;34m.\u001b[0m\u001b[0mmap\u001b[0m\u001b[0;34m(\u001b[0m\u001b[0mcache_array\u001b[0m\u001b[0;34m)\u001b[0m\u001b[0;34m\u001b[0m\u001b[0;34m\u001b[0m\u001b[0m\n\u001b[1;32m    804\u001b[0m         \u001b[0;32melse\u001b[0m\u001b[0;34m:\u001b[0m\u001b[0;34m\u001b[0m\u001b[0;34m\u001b[0m\u001b[0m\n\u001b[0;32m--> 805\u001b[0;31m             \u001b[0mvalues\u001b[0m \u001b[0;34m=\u001b[0m \u001b[0mconvert_listlike\u001b[0m\u001b[0;34m(\u001b[0m\u001b[0marg\u001b[0m\u001b[0;34m.\u001b[0m\u001b[0m_values\u001b[0m\u001b[0;34m,\u001b[0m \u001b[0mformat\u001b[0m\u001b[0;34m)\u001b[0m\u001b[0;34m\u001b[0m\u001b[0;34m\u001b[0m\u001b[0m\n\u001b[0m\u001b[1;32m    806\u001b[0m             \u001b[0mresult\u001b[0m \u001b[0;34m=\u001b[0m \u001b[0marg\u001b[0m\u001b[0;34m.\u001b[0m\u001b[0m_constructor\u001b[0m\u001b[0;34m(\u001b[0m\u001b[0mvalues\u001b[0m\u001b[0;34m,\u001b[0m \u001b[0mindex\u001b[0m\u001b[0;34m=\u001b[0m\u001b[0marg\u001b[0m\u001b[0;34m.\u001b[0m\u001b[0mindex\u001b[0m\u001b[0;34m,\u001b[0m \u001b[0mname\u001b[0m\u001b[0;34m=\u001b[0m\u001b[0marg\u001b[0m\u001b[0;34m.\u001b[0m\u001b[0mname\u001b[0m\u001b[0;34m)\u001b[0m\u001b[0;34m\u001b[0m\u001b[0;34m\u001b[0m\u001b[0m\n\u001b[1;32m    807\u001b[0m     \u001b[0;32melif\u001b[0m \u001b[0misinstance\u001b[0m\u001b[0;34m(\u001b[0m\u001b[0marg\u001b[0m\u001b[0;34m,\u001b[0m \u001b[0;34m(\u001b[0m\u001b[0mABCDataFrame\u001b[0m\u001b[0;34m,\u001b[0m \u001b[0mabc\u001b[0m\u001b[0;34m.\u001b[0m\u001b[0mMutableMapping\u001b[0m\u001b[0;34m)\u001b[0m\u001b[0;34m)\u001b[0m\u001b[0;34m:\u001b[0m\u001b[0;34m\u001b[0m\u001b[0;34m\u001b[0m\u001b[0m\n",
      "\u001b[0;32m~/opt/anaconda3/lib/python3.8/site-packages/pandas/core/tools/datetimes.py\u001b[0m in \u001b[0;36m_convert_listlike_datetimes\u001b[0;34m(arg, format, name, tz, unit, errors, infer_datetime_format, dayfirst, yearfirst, exact)\u001b[0m\n\u001b[1;32m    375\u001b[0m     \u001b[0morig_arg\u001b[0m \u001b[0;34m=\u001b[0m \u001b[0marg\u001b[0m\u001b[0;34m\u001b[0m\u001b[0;34m\u001b[0m\u001b[0m\n\u001b[1;32m    376\u001b[0m     \u001b[0;32mtry\u001b[0m\u001b[0;34m:\u001b[0m\u001b[0;34m\u001b[0m\u001b[0;34m\u001b[0m\u001b[0m\n\u001b[0;32m--> 377\u001b[0;31m         \u001b[0marg\u001b[0m\u001b[0;34m,\u001b[0m \u001b[0m_\u001b[0m \u001b[0;34m=\u001b[0m \u001b[0mmaybe_convert_dtype\u001b[0m\u001b[0;34m(\u001b[0m\u001b[0marg\u001b[0m\u001b[0;34m,\u001b[0m \u001b[0mcopy\u001b[0m\u001b[0;34m=\u001b[0m\u001b[0;32mFalse\u001b[0m\u001b[0;34m)\u001b[0m\u001b[0;34m\u001b[0m\u001b[0;34m\u001b[0m\u001b[0m\n\u001b[0m\u001b[1;32m    378\u001b[0m     \u001b[0;32mexcept\u001b[0m \u001b[0mTypeError\u001b[0m\u001b[0;34m:\u001b[0m\u001b[0;34m\u001b[0m\u001b[0;34m\u001b[0m\u001b[0m\n\u001b[1;32m    379\u001b[0m         \u001b[0;32mif\u001b[0m \u001b[0merrors\u001b[0m \u001b[0;34m==\u001b[0m \u001b[0;34m\"coerce\"\u001b[0m\u001b[0;34m:\u001b[0m\u001b[0;34m\u001b[0m\u001b[0;34m\u001b[0m\u001b[0m\n",
      "\u001b[0;32m~/opt/anaconda3/lib/python3.8/site-packages/pandas/core/arrays/datetimes.py\u001b[0m in \u001b[0;36mmaybe_convert_dtype\u001b[0;34m(data, copy)\u001b[0m\n\u001b[1;32m   2147\u001b[0m     \u001b[0;32melif\u001b[0m \u001b[0mis_timedelta64_dtype\u001b[0m\u001b[0;34m(\u001b[0m\u001b[0mdata\u001b[0m\u001b[0;34m.\u001b[0m\u001b[0mdtype\u001b[0m\u001b[0;34m)\u001b[0m \u001b[0;32mor\u001b[0m \u001b[0mis_bool_dtype\u001b[0m\u001b[0;34m(\u001b[0m\u001b[0mdata\u001b[0m\u001b[0;34m.\u001b[0m\u001b[0mdtype\u001b[0m\u001b[0;34m)\u001b[0m\u001b[0;34m:\u001b[0m\u001b[0;34m\u001b[0m\u001b[0;34m\u001b[0m\u001b[0m\n\u001b[1;32m   2148\u001b[0m         \u001b[0;31m# GH#29794 enforcing deprecation introduced in GH#23539\u001b[0m\u001b[0;34m\u001b[0m\u001b[0;34m\u001b[0m\u001b[0;34m\u001b[0m\u001b[0m\n\u001b[0;32m-> 2149\u001b[0;31m         \u001b[0;32mraise\u001b[0m \u001b[0mTypeError\u001b[0m\u001b[0;34m(\u001b[0m\u001b[0;34mf\"dtype {data.dtype} cannot be converted to datetime64[ns]\"\u001b[0m\u001b[0;34m)\u001b[0m\u001b[0;34m\u001b[0m\u001b[0;34m\u001b[0m\u001b[0m\n\u001b[0m\u001b[1;32m   2150\u001b[0m     \u001b[0;32melif\u001b[0m \u001b[0mis_period_dtype\u001b[0m\u001b[0;34m(\u001b[0m\u001b[0mdata\u001b[0m\u001b[0;34m.\u001b[0m\u001b[0mdtype\u001b[0m\u001b[0;34m)\u001b[0m\u001b[0;34m:\u001b[0m\u001b[0;34m\u001b[0m\u001b[0;34m\u001b[0m\u001b[0m\n\u001b[1;32m   2151\u001b[0m         \u001b[0;31m# Note: without explicitly raising here, PeriodIndex\u001b[0m\u001b[0;34m\u001b[0m\u001b[0;34m\u001b[0m\u001b[0;34m\u001b[0m\u001b[0m\n",
      "\u001b[0;31mTypeError\u001b[0m: dtype timedelta64[ns] cannot be converted to datetime64[ns]"
     ]
    }
   ],
   "source": [
    "df_m[\"dwell_time\"]=pd.to_datetime(df_m[\"dwell_time\"])"
   ]
  },
  {
   "cell_type": "code",
   "execution_count": 198,
   "id": "d72144c2",
   "metadata": {},
   "outputs": [
    {
     "ename": "AttributeError",
     "evalue": "'TimedeltaProperties' object has no attribute 'second'",
     "output_type": "error",
     "traceback": [
      "\u001b[0;31m---------------------------------------------------------------------------\u001b[0m",
      "\u001b[0;31mAttributeError\u001b[0m                            Traceback (most recent call last)",
      "\u001b[0;32m<ipython-input-198-ff772d8195fd>\u001b[0m in \u001b[0;36m<module>\u001b[0;34m\u001b[0m\n\u001b[0;32m----> 1\u001b[0;31m \u001b[0mdf_m\u001b[0m\u001b[0;34m[\u001b[0m\u001b[0;34m\"dwell_time\"\u001b[0m\u001b[0;34m]\u001b[0m\u001b[0;34m.\u001b[0m\u001b[0mdt\u001b[0m\u001b[0;34m.\u001b[0m\u001b[0msecond\u001b[0m\u001b[0;34m\u001b[0m\u001b[0;34m\u001b[0m\u001b[0m\n\u001b[0m",
      "\u001b[0;31mAttributeError\u001b[0m: 'TimedeltaProperties' object has no attribute 'second'"
     ]
    }
   ],
   "source": [
    "df_m[\"dwell_time\"].dt.second"
   ]
  },
  {
   "cell_type": "code",
   "execution_count": 187,
   "id": "629393b4",
   "metadata": {},
   "outputs": [
    {
     "name": "stdout",
     "output_type": "stream",
     "text": [
      "<class 'pandas.core.frame.DataFrame'>\n",
      "Int64Index: 7383 entries, 14 to 34323\n",
      "Data columns (total 4 columns):\n",
      " #   Column       Non-Null Count  Dtype          \n",
      "---  ------       --------------  -----          \n",
      " 0   mmsi         7383 non-null   int64          \n",
      " 1   navDesc      7383 non-null   object         \n",
      " 2   epochMillis  7383 non-null   datetime64[ns] \n",
      " 3   dwell_time   7383 non-null   timedelta64[ns]\n",
      "dtypes: datetime64[ns](1), int64(1), object(1), timedelta64[ns](1)\n",
      "memory usage: 288.4+ KB\n"
     ]
    }
   ],
   "source": [
    "df_m.info()"
   ]
  },
  {
   "cell_type": "code",
   "execution_count": 182,
   "id": "97bee3a4",
   "metadata": {},
   "outputs": [
    {
     "data": {
      "text/html": [
       "<div>\n",
       "<style scoped>\n",
       "    .dataframe tbody tr th:only-of-type {\n",
       "        vertical-align: middle;\n",
       "    }\n",
       "\n",
       "    .dataframe tbody tr th {\n",
       "        vertical-align: top;\n",
       "    }\n",
       "\n",
       "    .dataframe thead th {\n",
       "        text-align: right;\n",
       "    }\n",
       "</style>\n",
       "<table border=\"1\" class=\"dataframe\">\n",
       "  <thead>\n",
       "    <tr style=\"text-align: right;\">\n",
       "      <th></th>\n",
       "      <th>mmsi</th>\n",
       "      <th>navDesc</th>\n",
       "      <th>epochMillis</th>\n",
       "      <th>dwell_time</th>\n",
       "    </tr>\n",
       "  </thead>\n",
       "  <tbody>\n",
       "    <tr>\n",
       "      <th>14</th>\n",
       "      <td>201804190</td>\n",
       "      <td>Moored</td>\n",
       "      <td>2019-03-29 03:56:05</td>\n",
       "      <td>3 days 22:02:38</td>\n",
       "    </tr>\n",
       "    <tr>\n",
       "      <th>19</th>\n",
       "      <td>205717000</td>\n",
       "      <td>At Anchor</td>\n",
       "      <td>2019-03-27 04:31:31</td>\n",
       "      <td>0 days 03:18:00</td>\n",
       "    </tr>\n",
       "    <tr>\n",
       "      <th>21</th>\n",
       "      <td>205717000</td>\n",
       "      <td>Moored</td>\n",
       "      <td>2019-03-29 23:43:24</td>\n",
       "      <td>2 days 14:21:47</td>\n",
       "    </tr>\n",
       "    <tr>\n",
       "      <th>23</th>\n",
       "      <td>205791000</td>\n",
       "      <td>At Anchor</td>\n",
       "      <td>2020-03-22 18:09:35</td>\n",
       "      <td>1 days 15:09:04</td>\n",
       "    </tr>\n",
       "    <tr>\n",
       "      <th>24</th>\n",
       "      <td>205791000</td>\n",
       "      <td>Moored</td>\n",
       "      <td>2020-03-23 16:22:20</td>\n",
       "      <td>0 days 13:58:22</td>\n",
       "    </tr>\n",
       "    <tr>\n",
       "      <th>...</th>\n",
       "      <td>...</td>\n",
       "      <td>...</td>\n",
       "      <td>...</td>\n",
       "      <td>...</td>\n",
       "    </tr>\n",
       "    <tr>\n",
       "      <th>34315</th>\n",
       "      <td>671759000</td>\n",
       "      <td>Moored</td>\n",
       "      <td>2019-03-28 08:33:29</td>\n",
       "      <td>5 days 08:07:28</td>\n",
       "    </tr>\n",
       "    <tr>\n",
       "      <th>34318</th>\n",
       "      <td>671815000</td>\n",
       "      <td>At Anchor</td>\n",
       "      <td>2019-03-26 00:11:06</td>\n",
       "      <td>0 days 03:06:00</td>\n",
       "    </tr>\n",
       "    <tr>\n",
       "      <th>34320</th>\n",
       "      <td>671883000</td>\n",
       "      <td>At Anchor</td>\n",
       "      <td>2019-03-23 08:07:22</td>\n",
       "      <td>0 days 08:21:01</td>\n",
       "    </tr>\n",
       "    <tr>\n",
       "      <th>34322</th>\n",
       "      <td>671885000</td>\n",
       "      <td>At Anchor</td>\n",
       "      <td>2020-03-26 11:50:46</td>\n",
       "      <td>0 days 07:42:01</td>\n",
       "    </tr>\n",
       "    <tr>\n",
       "      <th>34323</th>\n",
       "      <td>671885000</td>\n",
       "      <td>Moored</td>\n",
       "      <td>2020-03-27 23:49:42</td>\n",
       "      <td>1 days 01:48:02</td>\n",
       "    </tr>\n",
       "  </tbody>\n",
       "</table>\n",
       "<p>7383 rows × 4 columns</p>\n",
       "</div>"
      ],
      "text/plain": [
       "            mmsi    navDesc         epochMillis      dwell_time\n",
       "14     201804190     Moored 2019-03-29 03:56:05 3 days 22:02:38\n",
       "19     205717000  At Anchor 2019-03-27 04:31:31 0 days 03:18:00\n",
       "21     205717000     Moored 2019-03-29 23:43:24 2 days 14:21:47\n",
       "23     205791000  At Anchor 2020-03-22 18:09:35 1 days 15:09:04\n",
       "24     205791000     Moored 2020-03-23 16:22:20 0 days 13:58:22\n",
       "...          ...        ...                 ...             ...\n",
       "34315  671759000     Moored 2019-03-28 08:33:29 5 days 08:07:28\n",
       "34318  671815000  At Anchor 2019-03-26 00:11:06 0 days 03:06:00\n",
       "34320  671883000  At Anchor 2019-03-23 08:07:22 0 days 08:21:01\n",
       "34322  671885000  At Anchor 2020-03-26 11:50:46 0 days 07:42:01\n",
       "34323  671885000     Moored 2020-03-27 23:49:42 1 days 01:48:02\n",
       "\n",
       "[7383 rows x 4 columns]"
      ]
     },
     "execution_count": 182,
     "metadata": {},
     "output_type": "execute_result"
    }
   ],
   "source": []
  },
  {
   "cell_type": "code",
   "execution_count": 180,
   "id": "d3cfdc8a",
   "metadata": {},
   "outputs": [
    {
     "data": {
      "text/plain": [
       "array(['Under Way Using Engine', 'Unknown', 'Moored', 'At Anchor',\n",
       "       'Constrained By Her Draught', 'Restricted Manoeuvrability',\n",
       "       'Not Under Command', 'Underway Sailing', 'Not Defined', 'Aground',\n",
       "       'Engaged In Fishing', 'Reserved For Future Use',\n",
       "       'Reserved For Future Amendment'], dtype=object)"
      ]
     },
     "execution_count": 180,
     "metadata": {},
     "output_type": "execute_result"
    }
   ],
   "source": [
    "df_m[\"navDesc\"].unique()"
   ]
  },
  {
   "cell_type": "code",
   "execution_count": 168,
   "id": "07e0f4e6",
   "metadata": {},
   "outputs": [
    {
     "name": "stdout",
     "output_type": "stream",
     "text": [
      "<class 'pandas.core.frame.DataFrame'>\n",
      "RangeIndex: 3473877 entries, 0 to 3473876\n",
      "Data columns (total 28 columns):\n",
      " #   Column            Dtype         \n",
      "---  ------            -----         \n",
      " 0   Unnamed: 0        int64         \n",
      " 1   epochMillis       datetime64[ns]\n",
      " 2   mmsi              int64         \n",
      " 3   olson_timezone    object        \n",
      " 4   imo               float64       \n",
      " 5   callSign          object        \n",
      " 6   destination       object        \n",
      " 7   cargoDetails      object        \n",
      " 8   latitude          float64       \n",
      " 9   longitude         float64       \n",
      " 10  navCode           int64         \n",
      " 11  navDesc           object        \n",
      " 12  courseOverGround  float64       \n",
      " 13  heading           float64       \n",
      " 14  rateOfTurn        float64       \n",
      " 15  speedOverGround   float64       \n",
      " 16  vessel_name       object        \n",
      " 17  typeName          object        \n",
      " 18  typeCode          int64         \n",
      " 19  draught           float64       \n",
      " 20  length            float64       \n",
      " 21  width             float64       \n",
      " 22  flagCode          int64         \n",
      " 23  flagCountry       object        \n",
      " 24  unlocode          object        \n",
      " 25  port_name         object        \n",
      " 26  port_latitude     float64       \n",
      " 27  port_longitude    float64       \n",
      "dtypes: datetime64[ns](1), float64(12), int64(5), object(10)\n",
      "memory usage: 742.1+ MB\n"
     ]
    }
   ],
   "source": [
    "df.info()"
   ]
  },
  {
   "cell_type": "code",
   "execution_count": null,
   "id": "4b4c0821",
   "metadata": {},
   "outputs": [],
   "source": []
  }
 ],
 "metadata": {
  "kernelspec": {
   "display_name": "Python 3",
   "language": "python",
   "name": "python3"
  },
  "language_info": {
   "codemirror_mode": {
    "name": "ipython",
    "version": 3
   },
   "file_extension": ".py",
   "mimetype": "text/x-python",
   "name": "python",
   "nbconvert_exporter": "python",
   "pygments_lexer": "ipython3",
   "version": "3.8.8"
  }
 },
 "nbformat": 4,
 "nbformat_minor": 5
}
