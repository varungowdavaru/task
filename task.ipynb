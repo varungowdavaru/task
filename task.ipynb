{
 "cells": [
  {
   "cell_type": "markdown",
   "id": "3be3d241",
   "metadata": {},
   "source": [
    "# 2.c.   Both JSON and Parquet datasets are identical in contents, but you must choose to use one over the other. Please provide your justification for your choice of dataset...?\n",
    "\n",
    "#### 1.Parquet is faster then json, json is normally used for configurations setting,but Parquet is columnar dataset formot which is more faster when ever reading.\n",
    "#### 2 In google cloud, database called big query is a columnar database which works more faster with Parquet data\n"
   ]
  },
  {
   "cell_type": "markdown",
   "id": "7b1a52e2",
   "metadata": {},
   "source": [
    "# importing required library"
   ]
  },
  {
   "cell_type": "code",
   "execution_count": 170,
   "id": "91e062e2",
   "metadata": {},
   "outputs": [],
   "source": [
    "import pandas as pd\n",
    "import numpy as np\n",
    "import json\n",
    "import requests\n",
    "import geocoder\n",
    "from matplotlib import pyplot as plt\n",
    "import seaborn as sns\n",
    "import glob, os, json\n",
    "from geopy.geocoders import Nominatim\n",
    "import goslate\n",
    "geolocator = Nominatim(user_agent=\"geoapiExercises\")\n",
    "import ast\n",
    "from pandas.io.json import json_normalize\n",
    "import geopandas as gpd\n",
    "import geopy\n",
    "from geopy.geocoders import Nominatim\n",
    "from geopy.extra.rate_limiter import RateLimiter\n",
    "from tqdm._tqdm_notebook import tqdm_notebook\n",
    "from tqdm.auto import tqdm\n",
    "tqdm.pandas()\n",
    "import pinyin\n",
    "import scipy.stats as stats\n",
    "import pylab\n",
    "from sklearn.model_selection import train_test_split\n",
    "from sklearn.metrics import r2_score\n",
    "from sklearn import preprocessing"
   ]
  },
  {
   "cell_type": "markdown",
   "id": "100ee5b4",
   "metadata": {},
   "source": [
    "# Reading all the json file inside the dowload folder"
   ]
  },
  {
   "cell_type": "code",
   "execution_count": 171,
   "id": "78ccba78",
   "metadata": {},
   "outputs": [],
   "source": [
    "def read_json(json_dir):\n",
    "    json_pattern = os.path.join(json_dir, '*.json')\n",
    "    file_list = glob.glob(json_pattern)\n",
    "\n",
    "    dfs = []\n",
    "    for file in file_list[:2]:\n",
    "        print(file)\n",
    "        json_data = pd.read_json(file,lines=True)\n",
    "        dfs.append(json_data)\n",
    "    df = pd.concat(dfs)\n",
    "    \n",
    "    return df\n",
    "    "
   ]
  },
  {
   "cell_type": "code",
   "execution_count": 172,
   "id": "eb9372c3",
   "metadata": {},
   "outputs": [],
   "source": [
    "#df=read_json('json')"
   ]
  },
  {
   "cell_type": "markdown",
   "id": "d10ea10b",
   "metadata": {},
   "source": [
    "## reading the all the csv file having all the json data."
   ]
  },
  {
   "cell_type": "code",
   "execution_count": 173,
   "id": "b02b88bb",
   "metadata": {},
   "outputs": [],
   "source": [
    "#df=pd.read_csv(\"Ocean AIS dwell behavior.csv\")"
   ]
  },
  {
   "cell_type": "markdown",
   "id": "45caa525",
   "metadata": {},
   "source": [
    "## preprocesseing data"
   ]
  },
  {
   "cell_type": "code",
   "execution_count": 174,
   "id": "5e9c6e6d",
   "metadata": {},
   "outputs": [],
   "source": [
    "def preprocess(df):\n",
    "    try:\n",
    "        df[\"epochMillis\"] = pd.to_datetime(df[\"epochMillis\"],unit='ms')\n",
    "    \n",
    "        df[\"epochMillis\"] = pd.to_datetime(df[\"epochMillis\"],unit='ms')\n",
    "        v = json_normalize([ast.literal_eval(j) for j in df.pop(\"position\")], sep='')\n",
    "        df=pd.concat([df, v], 1)\n",
    "        \n",
    "        \n",
    "        \n",
    "        v = json_normalize([ast.literal_eval(j) for j in df.pop(\"navigation\")], sep='')\n",
    "        df=pd.concat([df, v], 1)\n",
    "        \n",
    "        \n",
    "        \n",
    "        v = json_normalize([ast.literal_eval(j) for j in df.pop(\"vesselDetails\")], sep='')\n",
    "        v=v.rename(columns={\"name\":\"vessel_name\"})\n",
    "        df=pd.concat([df, v], 1)\n",
    "        \n",
    "        \n",
    "        v = json_normalize([ast.literal_eval(j) for j in df.pop(\"port\")], sep='')\n",
    "        v=v.rename(columns={\"name\":\"port_name\",'latitude':\"port_latitude\",\"longitude\":\"port_longitude\"})\n",
    "        df=pd.concat([df, v], 1)\n",
    "    except exception as e:\n",
    "        print(e)\n",
    "        \n",
    "    return df"
   ]
  },
  {
   "cell_type": "code",
   "execution_count": 175,
   "id": "1db15107",
   "metadata": {},
   "outputs": [],
   "source": [
    "#df = preprocess(df)"
   ]
  },
  {
   "cell_type": "markdown",
   "id": "121e7669",
   "metadata": {},
   "source": [
    "# read preprocessed data"
   ]
  },
  {
   "cell_type": "code",
   "execution_count": 176,
   "id": "28df37e2",
   "metadata": {},
   "outputs": [],
   "source": [
    "df=pd.read_csv(\"preprocessed_data.csv\")\n",
    "df[\"epochMillis\"] = pd.to_datetime(df[\"epochMillis\"])"
   ]
  },
  {
   "cell_type": "markdown",
   "id": "fa78e193",
   "metadata": {},
   "source": [
    "# 3.What is(are) the main time period(s) in the data?\n",
    "\n",
    "\n",
    "#### from the below plots, we can say that , main time period will be 3rd month(march) and the week 13 from compared week 12 and year 2019 is having more vessel involved the transportaion"
   ]
  },
  {
   "cell_type": "code",
   "execution_count": 177,
   "id": "a01cb2f4",
   "metadata": {},
   "outputs": [
    {
     "name": "stderr",
     "output_type": "stream",
     "text": [
      "/opt/conda/lib/python3.7/site-packages/seaborn/_decorators.py:43: FutureWarning: Pass the following variables as keyword args: x, y. From version 0.12, the only valid positional argument will be `data`, and passing other arguments without an explicit keyword will result in an error or misinterpretation.\n",
      "  FutureWarning\n"
     ]
    },
    {
     "data": {
      "text/plain": [
       "<AxesSubplot:xlabel='day', ylabel='values_count'>"
      ]
     },
     "execution_count": 177,
     "metadata": {},
     "output_type": "execute_result"
    },
    {
     "data": {
      "image/png": "[encoded data removed]",
      "text/plain": [
       "<Figure size 1080x576 with 1 Axes>"
      ]
     },
     "metadata": {
      "needs_background": "light"
     },
     "output_type": "display_data"
    }
   ],
   "source": [
    "df[\"day\"] = df[\"epochMillis\"].dt.day\n",
    "dd = df.groupby([\"day\"])[\"mmsi\"].nunique().sort_values(ascending=False).reset_index().rename(columns={\"mmsi\":\"values_count\"})\n",
    "\n",
    "\n",
    "plt.figure(figsize = [15,8])\n",
    "sns.barplot(\"day\",\"values_count\",data = dd)"
   ]
  },
  {
   "cell_type": "code",
   "execution_count": 178,
   "id": "8b6c5d4e",
   "metadata": {},
   "outputs": [
    {
     "name": "stderr",
     "output_type": "stream",
     "text": [
      "/opt/conda/lib/python3.7/site-packages/ipykernel_launcher.py:1: FutureWarning: Series.dt.weekofyear and Series.dt.week have been deprecated.  Please use Series.dt.isocalendar().week instead.\n",
      "  \"\"\"Entry point for launching an IPython kernel.\n",
      "/opt/conda/lib/python3.7/site-packages/seaborn/_decorators.py:43: FutureWarning: Pass the following variables as keyword args: x, y. From version 0.12, the only valid positional argument will be `data`, and passing other arguments without an explicit keyword will result in an error or misinterpretation.\n",
      "  FutureWarning\n"
     ]
    },
    {
     "data": {
      "text/plain": [
       "<AxesSubplot:xlabel='week', ylabel='values_count'>"
      ]
     },
     "execution_count": 178,
     "metadata": {},
     "output_type": "execute_result"
    },
    {
     "data": {
      "image/png": "[encoded data removed]",
      "text/plain": [
       "<Figure size 1080x576 with 1 Axes>"
      ]
     },
     "metadata": {
      "needs_background": "light"
     },
     "output_type": "display_data"
    }
   ],
   "source": [
    "df[\"week\"] = df[\"epochMillis\"].dt.week\n",
    "dd = df.groupby([\"week\"])[\"mmsi\"].nunique().sort_values(ascending = False).reset_index().rename(columns = {\"mmsi\":\"values_count\"})\n",
    "\n",
    "\n",
    "plt.figure(figsize =[15,8])\n",
    "sns.barplot(\"week\",\"values_count\",data = dd)"
   ]
  },
  {
   "cell_type": "code",
   "execution_count": 179,
   "id": "a3929535",
   "metadata": {},
   "outputs": [
    {
     "name": "stderr",
     "output_type": "stream",
     "text": [
      "/opt/conda/lib/python3.7/site-packages/seaborn/_decorators.py:43: FutureWarning: Pass the following variables as keyword args: x, y. From version 0.12, the only valid positional argument will be `data`, and passing other arguments without an explicit keyword will result in an error or misinterpretation.\n",
      "  FutureWarning\n"
     ]
    },
    {
     "data": {
      "text/plain": [
       "<AxesSubplot:xlabel='month', ylabel='values_count'>"
      ]
     },
     "execution_count": 179,
     "metadata": {},
     "output_type": "execute_result"
    },
    {
     "data": {
      "image/png": "[encoded data removed]",
      "text/plain": [
       "<Figure size 1080x576 with 1 Axes>"
      ]
     },
     "metadata": {
      "needs_background": "light"
     },
     "output_type": "display_data"
    }
   ],
   "source": [
    "df[\"month\"] = df[\"epochMillis\"].dt.month\n",
    "dd = df.groupby([\"month\"])[\"mmsi\"].nunique().sort_values(ascending=False).reset_index().rename(columns={\"mmsi\":\"values_count\"})\n",
    "\n",
    "\n",
    "plt.figure(figsize =[15,8])\n",
    "sns.barplot(\"month\",\"values_count\",data  =dd)"
   ]
  },
  {
   "cell_type": "code",
   "execution_count": 180,
   "id": "9bbcc7d7",
   "metadata": {},
   "outputs": [
    {
     "name": "stderr",
     "output_type": "stream",
     "text": [
      "/opt/conda/lib/python3.7/site-packages/seaborn/_decorators.py:43: FutureWarning: Pass the following variables as keyword args: x, y. From version 0.12, the only valid positional argument will be `data`, and passing other arguments without an explicit keyword will result in an error or misinterpretation.\n",
      "  FutureWarning\n"
     ]
    },
    {
     "data": {
      "text/plain": [
       "<AxesSubplot:xlabel='year', ylabel='values_count'>"
      ]
     },
     "execution_count": 180,
     "metadata": {},
     "output_type": "execute_result"
    },
    {
     "data": {
      "image/png": "[encoded data removed]",
      "text/plain": [
       "<Figure size 1080x576 with 1 Axes>"
      ]
     },
     "metadata": {
      "needs_background": "light"
     },
     "output_type": "display_data"
    }
   ],
   "source": [
    "df[\"year\"]= df[\"epochMillis\"].dt.year\n",
    "\n",
    "dd = df.groupby([\"year\"])[\"mmsi\"].nunique().sort_values(ascending = False).reset_index().rename(columns =  {\"mmsi\":\"values_count\"})\n",
    "\n",
    "\n",
    "plt.figure(figsize = [15,8])\n",
    "sns.barplot(\"year\",\"values_count\",data = dd)"
   ]
  },
  {
   "cell_type": "markdown",
   "id": "1a643d48",
   "metadata": {},
   "source": [
    "# 4.Which are the top three most sparse variables?\n",
    "#### 1.what does sparesity means:\n",
    "#### ans: we can tell the data spare in 2 ways , onw way is while checking raw data where we see the fature having lot Nan values and the other ways is while giving the data to the model model where the varibales  were having variations in the data.\n"
   ]
  },
  {
   "cell_type": "markdown",
   "id": "20335520",
   "metadata": {},
   "source": [
    "## top 3 spare varibales were \n",
    "\n",
    "####  cargoDetails : 0.9040633850881882\n",
    "####  imo : 0.4234289239371457\n",
    "####  destination : 0.3272951229994614\n",
    "####  callSign : 0.29131860454472047\n",
    "\n"
   ]
  },
  {
   "cell_type": "code",
   "execution_count": 181,
   "id": "466c52e9",
   "metadata": {},
   "outputs": [],
   "source": [
    "f=[]\n",
    "d=[]\n",
    "def nullplot():\n",
    "    for feature in df.columns:\n",
    "        print(feature,\":\",df[feature].isna().sum()/df.shape[0])\n",
    "        #sns.barplot(x=df[feature],y=df2[feature].isna().sum()/df2.shape[0])\n",
    "        f.append(feature)\n",
    "        d.append(df[feature].isna().sum()/df.shape[0])\n",
    "    plt.figure(figsize=[15,5])\n",
    "    sns.barplot(x=f,y=d)\n",
    "    return"
   ]
  },
  {
   "cell_type": "code",
   "execution_count": 182,
   "id": "e47b8917",
   "metadata": {},
   "outputs": [
    {
     "name": "stdout",
     "output_type": "stream",
     "text": [
      "Unnamed: 0 : 0.0\n",
      "Unnamed: 0.1 : 0.0\n",
      "epochMillis : 0.0\n",
      "mmsi : 0.0\n",
      "olson_timezone : 0.0\n",
      "imo : 0.4159598362973853\n",
      "callSign : 0.2914158967299211\n",
      "destination : 0.32935451526122533\n",
      "cargoDetails : 0.904400851702353\n",
      "latitude : 0.0\n",
      "longitude : 0.0\n",
      "navCode : 0.0\n",
      "navDesc : 0.0\n",
      "courseOverGround : 0.0\n",
      "heading : 0.0\n",
      "rateOfTurn : 0.0\n",
      "speedOverGround : 0.0\n",
      "vessel_name : 0.0\n",
      "typeName : 0.0\n",
      "typeCode : 0.0\n",
      "draught : 0.06281187989220496\n",
      "length : 0.0121701815360092\n",
      "width : 0.0121701815360092\n",
      "flagCode : 0.0\n",
      "flagCountry : 0.0\n",
      "unlocode : 2.3372731968521603e-06\n",
      "port_name : 2.3372731968521603e-06\n",
      "port_latitude : 2.3372731968521603e-06\n",
      "port_longitude : 2.3372731968521603e-06\n",
      "day : 0.0\n",
      "week : 0.0\n",
      "month : 0.0\n",
      "year : 0.0\n"
     ]
    },
    {
     "data": {
      "image/png": "[encoded data removed]",
      "text/plain": [
       "<Figure size 1080x360 with 1 Axes>"
      ]
     },
     "metadata": {
      "needs_background": "light"
     },
     "output_type": "display_data"
    }
   ],
   "source": [
    "nullplot()"
   ]
  },
  {
   "cell_type": "code",
   "execution_count": 183,
   "id": "bb7b01c1",
   "metadata": {},
   "outputs": [
    {
     "name": "stderr",
     "output_type": "stream",
     "text": [
      "/opt/conda/lib/python3.7/site-packages/seaborn/_decorators.py:43: FutureWarning: Pass the following variables as keyword args: x, y. From version 0.12, the only valid positional argument will be `data`, and passing other arguments without an explicit keyword will result in an error or misinterpretation.\n",
      "  FutureWarning\n"
     ]
    },
    {
     "data": {
      "text/plain": [
       "<AxesSubplot:xlabel='fetures', ylabel='counts'>"
      ]
     },
     "execution_count": 183,
     "metadata": {},
     "output_type": "execute_result"
    },
    {
     "data": {
      "image/png": "[encoded data removed]",
      "text/plain": [
       "<Figure size 1080x576 with 1 Axes>"
      ]
     },
     "metadata": {
      "needs_background": "light"
     },
     "output_type": "display_data"
    }
   ],
   "source": [
    "cat =[\"navCode\",\"navDesc\",\"port_name\",\"typeName\",\"unlocode\",\"vessel_name\",\"destination\",\"olson_timezone\"]\n",
    "\n",
    "dd = df[cat].nunique().sort_values(ascending = False).reset_index()[:5].rename(columns = {'index':\"fetures\",0:\"counts\"})\n",
    "plt.figure(figsize = [15,8])\n",
    "sns.barplot(\"fetures\",\"counts\",data = dd)\n",
    "    "
   ]
  },
  {
   "cell_type": "code",
   "execution_count": 184,
   "id": "4fbc0ffa-7e68-4a10-8dbc-84c8ce77d877",
   "metadata": {},
   "outputs": [
    {
     "data": {
      "text/html": [
       "<div>\n",
       "<style scoped>\n",
       "    .dataframe tbody tr th:only-of-type {\n",
       "        vertical-align: middle;\n",
       "    }\n",
       "\n",
       "    .dataframe tbody tr th {\n",
       "        vertical-align: top;\n",
       "    }\n",
       "\n",
       "    .dataframe thead th {\n",
       "        text-align: right;\n",
       "    }\n",
       "</style>\n",
       "<table border=\"1\" class=\"dataframe\">\n",
       "  <thead>\n",
       "    <tr style=\"text-align: right;\">\n",
       "      <th></th>\n",
       "      <th>fetures</th>\n",
       "      <th>counts</th>\n",
       "    </tr>\n",
       "  </thead>\n",
       "  <tbody>\n",
       "    <tr>\n",
       "      <th>0</th>\n",
       "      <td>vessel_name</td>\n",
       "      <td>22983</td>\n",
       "    </tr>\n",
       "    <tr>\n",
       "      <th>1</th>\n",
       "      <td>destination</td>\n",
       "      <td>4629</td>\n",
       "    </tr>\n",
       "    <tr>\n",
       "      <th>2</th>\n",
       "      <td>typeName</td>\n",
       "      <td>25</td>\n",
       "    </tr>\n",
       "    <tr>\n",
       "      <th>3</th>\n",
       "      <td>navCode</td>\n",
       "      <td>15</td>\n",
       "    </tr>\n",
       "    <tr>\n",
       "      <th>4</th>\n",
       "      <td>navDesc</td>\n",
       "      <td>13</td>\n",
       "    </tr>\n",
       "  </tbody>\n",
       "</table>\n",
       "</div>"
      ],
      "text/plain": [
       "       fetures  counts\n",
       "0  vessel_name   22983\n",
       "1  destination    4629\n",
       "2     typeName      25\n",
       "3      navCode      15\n",
       "4      navDesc      13"
      ]
     },
     "execution_count": 184,
     "metadata": {},
     "output_type": "execute_result"
    }
   ],
   "source": [
    "dd"
   ]
  },
  {
   "cell_type": "markdown",
   "id": "0364db0b-3bb7-4a29-b5ce-9e8640c8cd4a",
   "metadata": {},
   "source": [
    "## 5.What region(s) of the world and ocean port(s) does this data represent? Provide evidence to justify your answer.\n",
    "\n",
    "#### below table gives city of the position od the vessel having the flagcountry as inda\n"
   ]
  },
  {
   "cell_type": "code",
   "execution_count": null,
   "id": "02d732a9-c6f0-4265-b5cf-35556c6d5e2a",
   "metadata": {},
   "outputs": [
    {
     "name": "stderr",
     "output_type": "stream",
     "text": [
      "/opt/conda/lib/python3.7/site-packages/pandas/core/indexing.py:1732: SettingWithCopyWarning: \n",
      "A value is trying to be set on a copy of a slice from a DataFrame\n",
      "\n",
      "See the caveats in the documentation: https://pandas.pydata.org/pandas-docs/stable/user_guide/indexing.html#returning-a-view-versus-a-copy\n",
      "  self._setitem_single_block(indexer, value, name)\n"
     ]
    }
   ],
   "source": [
    "df_india=df[df[\"flagCountry\"]=='India'].reset_index()\n",
    "df_india['city']=np.nan\n",
    "for i in range (0,len(df_india['latitude'])):\n",
    "    try:\n",
    "        location=geolocator.reverse(str(df_india['latitude'][i])+\",\"+str(df_india['longitude'][i]))\n",
    "        df_india['city'].iloc[i]=pinyin.get(location.raw.get('address').get('city'))\n",
    "    except:\n",
    "        pass\n",
    "df_india"
   ]
  },
  {
   "cell_type": "markdown",
   "id": "522db0a4",
   "metadata": {},
   "source": [
    "# 6.frequency tabulation of the various Navigation Codes & Descriptions (i.e., navCode & NavDesc)."
   ]
  },
  {
   "cell_type": "code",
   "execution_count": null,
   "id": "31cb0bb7",
   "metadata": {},
   "outputs": [],
   "source": [
    "dd = df[\"navCode\"].value_counts().sort_values(ascending = False).reset_index().rename(columns = {\"index\":\"navCode\",\"navCode\":\"values_count\"})\n",
    "dd"
   ]
  },
  {
   "cell_type": "code",
   "execution_count": null,
   "id": "cdb35da6",
   "metadata": {},
   "outputs": [],
   "source": [
    "dd = df[\"navDesc\"].value_counts().sort_values(ascending = False).reset_index().rename(columns = {\"index\":\"navDesc\",\"navDesc\":\"values_count\"})\n",
    "dd"
   ]
  },
  {
   "cell_type": "code",
   "execution_count": null,
   "id": "27f59343",
   "metadata": {},
   "outputs": [],
   "source": [
    "dd = df.groupby([\"port_name\"])[\"mmsi\"].nunique().sort_values(ascending = False).reset_index()\n",
    "dd"
   ]
  },
  {
   "cell_type": "code",
   "execution_count": null,
   "id": "55daac0d",
   "metadata": {},
   "outputs": [],
   "source": [
    "dd = df.groupby([\"mmsi\"])[\"navCode\"].nunique().sort_values(ascending = False).reset_index()\n",
    "dd"
   ]
  },
  {
   "cell_type": "markdown",
   "id": "ad3bd6b5",
   "metadata": {},
   "source": [
    "# 7. For MMSI = 205792000"
   ]
  },
  {
   "cell_type": "code",
   "execution_count": null,
   "id": "418aed4c",
   "metadata": {},
   "outputs": [],
   "source": [
    "df_205792000 = df[df[\"mmsi\"] == 205792000]  # filter the data belongs to MMSI 205792000"
   ]
  },
  {
   "cell_type": "markdown",
   "id": "89a7e792",
   "metadata": {},
   "source": [
    "## 7 a.   Limit the data to only the TOP 5 Navigation Codes based from the response to question 6\n"
   ]
  },
  {
   "cell_type": "code",
   "execution_count": null,
   "id": "d9173899",
   "metadata": {},
   "outputs": [],
   "source": [
    "dd=df_205792000[\"navCode\"].value_counts().sort_values(ascending=False).reset_index()[:5].rename(columns = {'index':\"navCode\",\"navCode\":\"counts\"})\n",
    "plt.figure(figsize=[15,8])\n",
    "sns.barplot(\"navCode\",\"counts\",data=dd)"
   ]
  },
  {
   "cell_type": "code",
   "execution_count": null,
   "id": "e561340b",
   "metadata": {},
   "outputs": [],
   "source": [
    "dd=df_205792000[\"navDesc\"].value_counts().sort_values(ascending=False).reset_index()[:5].rename(columns = {'index':\"navDesc\",\"navDesc\":\"counts\"})\n",
    "plt.figure(figsize=[15,8])\n",
    "sns.barplot(\"navDesc\",\"counts\",data=dd)"
   ]
  },
  {
   "cell_type": "markdown",
   "id": "a52d975a",
   "metadata": {},
   "source": [
    "### 7.b.   Provide the final state for each series of contiguous events with the same Navigation Code; series may be interrupted by other series, but each contiguous series must be its own record."
   ]
  },
  {
   "cell_type": "code",
   "execution_count": null,
   "id": "eace2798",
   "metadata": {},
   "outputs": [],
   "source": [
    "df_205792000['city']=np.nan\n",
    "for i in range (0,len(df_205792000['latitude'])):\n",
    "    try:\n",
    "        location=geolocator.reverse(str(df['latitude'][i])+\",\"+str(df['longitude'][i]))\n",
    "        df_205792000['city'].iloc[i]=pinyin.get(location.raw.get('address').get('city'))\n",
    "    except:\n",
    "        pass"
   ]
  },
  {
   "cell_type": "code",
   "execution_count": null,
   "id": "499c413d",
   "metadata": {},
   "outputs": [],
   "source": [
    "df_205792000.groupby([\"mmsi\",\"navCode\"])[\"epochMillis\"].max().reset_index().merge(df_205792000[[\"epochMillis\",\"mmsi\",\"navCode\",\"navDesc\",\"latitude\",\"longitude\",\"city\"]],on=[\"mmsi\",\"navCode\",'epochMillis'],how=\"inner\")\n",
    "\n"
   ]
  },
  {
   "cell_type": "markdown",
   "id": "d964b741",
   "metadata": {},
   "source": [
    "### 7.c.   Final report should include at least the following fields/columns:\n",
    "### i.   mmsi = the MMSI of the vessel\n",
    "### ii.   timestamp = the timestamp of the last event in that contiguous series\n",
    "### iii.   Navigation Code = the navigation code (i.e., navigation.navCode)\n",
    "### iv.   Navigation Description = the navigation code description (i.e., navigation.navDesc)\n",
    "### v.   lead time (in Milliseconds) = the time difference in milliseconds between the last and first timestamp of that particular series of the same contiguous navigation codes\n"
   ]
  },
  {
   "cell_type": "code",
   "execution_count": null,
   "id": "13940733",
   "metadata": {},
   "outputs": [],
   "source": [
    "dff=df_205792000.groupby([\"mmsi\",\"navCode\",\"navDesc\"])[\"epochMillis\"].max().reset_index().rename(columns={\"epochMillis\":\"last_event\"})\n",
    "dff[\"lead_time_in_ms\"]=np.nan"
   ]
  },
  {
   "cell_type": "code",
   "execution_count": null,
   "id": "cc0d28e5",
   "metadata": {},
   "outputs": [],
   "source": [
    "dff[\"lead_time_in_ms\"]=df_205792000.groupby([\"mmsi\",\"navCode\"])[\"epochMillis\"].max().reset_index()[[\"epochMillis\"]]-df_205792000.groupby([\"mmsi\",\"navCode\"])[\"epochMillis\"].min().reset_index()[[\"epochMillis\"]]"
   ]
  },
  {
   "cell_type": "code",
   "execution_count": null,
   "id": "257b2fd8",
   "metadata": {},
   "outputs": [],
   "source": [
    "dff"
   ]
  },
  {
   "cell_type": "markdown",
   "id": "f975151c",
   "metadata": {},
   "source": [
    "# 8.For MMSI = 413970021"
   ]
  },
  {
   "cell_type": "code",
   "execution_count": null,
   "id": "9e5c748b",
   "metadata": {},
   "outputs": [],
   "source": [
    "df_413970021 = df[df[\"mmsi\"] == 413970021]"
   ]
  },
  {
   "cell_type": "markdown",
   "id": "3f19e3af",
   "metadata": {},
   "source": [
    "## 8 a.   Limit the data to only the TOP 5 Navigation Codes based from the response to question 6\n",
    "\n"
   ]
  },
  {
   "cell_type": "code",
   "execution_count": null,
   "id": "24e3583c",
   "metadata": {},
   "outputs": [],
   "source": [
    "dd=df_413970021[\"navCode\"].value_counts().sort_values(ascending=False).reset_index()[:5].rename(columns = {'index':\"navCode\",\"navCode\":\"counts\"})\n",
    "plt.figure(figsize=[15,8])\n",
    "sns.barplot(\"navCode\",\"counts\",data=dd)"
   ]
  },
  {
   "cell_type": "code",
   "execution_count": null,
   "id": "1a1fb63b",
   "metadata": {},
   "outputs": [],
   "source": [
    "dd=df_413970021[\"navDesc\"].value_counts().sort_values(ascending=False).reset_index()[:5].rename(columns = {'index':\"navDesc\",\"navDesc\":\"counts\"})\n",
    "plt.figure(figsize=[15,8])\n",
    "sns.barplot(\"navDesc\",\"counts\",data=dd)"
   ]
  },
  {
   "cell_type": "markdown",
   "id": "e9134346",
   "metadata": {},
   "source": [
    "### 8.b.   Provide the final state for each series of contiguous events with the same Navigation Code; series may be interrupted by other series, but each contiguous series must be its own record."
   ]
  },
  {
   "cell_type": "code",
   "execution_count": null,
   "id": "b8eb5c84",
   "metadata": {},
   "outputs": [],
   "source": [
    "df_413970021['city']=np.nan\n",
    "for i in range (0,len(df_413970021['latitude'])):\n",
    "    try:\n",
    "        location=geolocator.reverse(str(df['latitude'][i])+\",\"+str(df_413970021['longitude'][i]))\n",
    "        ddf_413970021['city'].iloc[i]=pinyin.get(location.raw.get('address').get('city'))\n",
    "    except:\n",
    "        pass"
   ]
  },
  {
   "cell_type": "code",
   "execution_count": null,
   "id": "540defee",
   "metadata": {},
   "outputs": [],
   "source": [
    "df_413970021.groupby([\"mmsi\",\"navCode\"])[\"epochMillis\"].max().reset_index().merge(df_413970021[[\"epochMillis\",\"mmsi\",\"navCode\",\"navDesc\",\"latitude\",\"longitude\",\"city\"]],on=[\"mmsi\",\"navCode\",'epochMillis'],how=\"inner\")\n",
    "\n",
    "\n",
    "\n"
   ]
  },
  {
   "cell_type": "markdown",
   "id": "c2f7a465",
   "metadata": {},
   "source": [
    "### 8.c.   Final report should include at least the following fields/columns:\n",
    "### i.   mmsi = the MMSI of the vessel\n",
    "### ii.   timestamp = the timestamp of the last event in that contiguous series\n",
    "### iii.   Navigation Code = the navigation code (i.e., navigation.navCode)\n",
    "### iv.   Navigation Description = the navigation code description (i.e., navigation.navDesc)\n",
    "### v.   lead time (in Milliseconds) = the time difference in milliseconds between the last and first timestamp of that particular series of the same contiguous navigation codes\n",
    "\n"
   ]
  },
  {
   "cell_type": "code",
   "execution_count": null,
   "id": "df9a01db",
   "metadata": {},
   "outputs": [],
   "source": [
    "dff=df_413970021.groupby([\"mmsi\",\"navCode\",\"navDesc\"])[\"epochMillis\"].max().reset_index().rename(columns={\"epochMillis\":\"last_event\"})\n",
    "dff[\"lead_time_in_ms\"]=np.nan"
   ]
  },
  {
   "cell_type": "code",
   "execution_count": null,
   "id": "1956ad38",
   "metadata": {},
   "outputs": [],
   "source": [
    "dff[\"lead_time_in_ms\"]=df_413970021.groupby([\"mmsi\",\"navCode\"])[\"epochMillis\"].max().reset_index()[[\"epochMillis\"]]-df_413970021.groupby([\"mmsi\",\"navCode\"])[\"epochMillis\"].min().reset_index()[[\"epochMillis\"]]\n",
    "\n",
    "\n"
   ]
  },
  {
   "cell_type": "code",
   "execution_count": null,
   "id": "2cedc540",
   "metadata": {},
   "outputs": [],
   "source": [
    "dff"
   ]
  },
  {
   "cell_type": "markdown",
   "id": "9bff9305",
   "metadata": {},
   "source": [
    "## 8 a.   Do you agree with the Navigation Code(s) and Description(s) for this particular vessel?   \n",
    "#### ii.   If you do not agree, provide an explanation why do disagree. Additionally, if you do not agree, what would you change it to and why?\n",
    "#### answer  :  i dont agree becuase vessel should have the nav code and nav desc in order to keep the track of status of the vessel, weather it was Under Way Using Engine,At Anchor or Moored\n"
   ]
  },
  {
   "cell_type": "markdown",
   "id": "9cb0e973",
   "metadata": {},
   "source": [
    "# ML modelling still in progess ,i will let you know, i fully got the understanding of business and data"
   ]
  },
  {
   "cell_type": "markdown",
   "id": "69eecd8a-d701-4bb0-b45d-b6aefb22c2f6",
   "metadata": {},
   "source": [
    "# applying label encoding "
   ]
  },
  {
   "cell_type": "code",
   "execution_count": null,
   "id": "e4c0fd06-106e-47e3-aead-4c53f8d29bf9",
   "metadata": {},
   "outputs": [],
   "source": [
    "def data_prepariation_model(df):\n",
    "    try:\n",
    "        model= df.groupby(['mmsi','navDesc',\"typeName\",'unlocode','vessel_name','destination']).agg({\"courseOverGround\":\"mean\",\"rateOfTurn\":\"mean\",\"speedOverGround\":\"mean\",\"draught\":\"mean\",\"length\":\"mean\",\"width\":'mean'}).reset_index()\n",
    "\n",
    "        df_m=df.groupby(['mmsi','navDesc',\"typeName\",'unlocode','vessel_name','destination'])[\"epochMillis\"].max().reset_index()\n",
    "\n",
    "        df_m[\"dwell_time\"]=df.groupby([\"mmsi\",\"navDesc\"])[\"epochMillis\"].max().reset_index()[\"epochMillis\"]-df.groupby([\"mmsi\",\"navDesc\"])[\"epochMillis\"].min().reset_index()[\"epochMillis\"]\n",
    "    \n",
    "        df_model=model.merge(df_m,on=['mmsi','navDesc',\"typeName\",'unlocode','vessel_name','destination'],how=\"left\")\n",
    "        df_model[\"dwell_time\"]=df_m[\"dwell_time\"].dt.total_seconds()\n",
    "    \n",
    "        df_model=df_model[(df_model[\"navDesc\"]=='At Anchor') ^ (df_model[\"navDesc\"]=='Moored')]\n",
    "        df_model=df_model.drop([\"mmsi\",\"epochMillis\"],axis=1)\n",
    "    \n",
    "        return df_model \n",
    "    except exception as e\n",
    "        print(e)\n",
    "    \n",
    "\n",
    "\n"
   ]
  },
  {
   "cell_type": "code",
   "execution_count": null,
   "id": "3779e1ce-7f7c-488a-b7e5-48a8c35add40",
   "metadata": {},
   "outputs": [],
   "source": [
    "df_model=data_prepariation_model(df)"
   ]
  },
  {
   "cell_type": "code",
   "execution_count": null,
   "id": "dd00c665-793a-4f76-834c-b349bb775b3e",
   "metadata": {},
   "outputs": [],
   "source": [
    "def label_encoder(categorical_list,df):\n",
    "    try:\n",
    "        for i in categorical_list:\n",
    "            label_encoder = preprocessing.LabelEncoder()\n",
    "            df[i]= label_encoder.fit_transform(df[i])\n",
    "        return df\n",
    "    except exception as e\n",
    "        print(e)"
   ]
  },
  {
   "cell_type": "code",
   "execution_count": null,
   "id": "a6ff4719-c17c-4bef-9664-49c76137fa7f",
   "metadata": {},
   "outputs": [],
   "source": [
    "df_model"
   ]
  },
  {
   "cell_type": "code",
   "execution_count": null,
   "id": "72935e0d-36d9-4c2d-bc7a-4191abcc8f1d",
   "metadata": {},
   "outputs": [],
   "source": [
    "cat =['navDesc',\"typeName\",'unlocode','vessel_name','destination']\n",
    "df = label_encoder(cat,df_model)"
   ]
  },
  {
   "cell_type": "code",
   "execution_count": null,
   "id": "02d4e849-2a8e-4acb-9eff-6e6bdcf17245",
   "metadata": {},
   "outputs": [],
   "source": [
    "df"
   ]
  },
  {
   "cell_type": "code",
   "execution_count": null,
   "id": "641caba3",
   "metadata": {},
   "outputs": [],
   "source": [
    "def distribution_plot(df):\n",
    "    try:\n",
    "        temp=[]\n",
    "        for i in df.columns :\n",
    "            if df[i].dtypes == \"int64\" or df[i].dtypes == \"float64\" :\n",
    "                temp.append(i)\n",
    "    \n",
    "        for feature in  temp:\n",
    "            plt.figure(figsize=(10,5))\n",
    "            plt.subplot(1,2,1)\n",
    "            sns.kdeplot(df[feature])\n",
    "            plt.subplot(1,2,2)\n",
    "            stats.probplot(df[feature],plot=pylab)\n",
    "            plt.show()\n",
    "        return\n",
    "    except exception as e\n",
    "        print(e)"
   ]
  },
  {
   "cell_type": "code",
   "execution_count": null,
   "id": "8487f92f",
   "metadata": {},
   "outputs": [],
   "source": [
    "distribution_plot(df)"
   ]
  },
  {
   "cell_type": "code",
   "execution_count": null,
   "id": "eb950e61",
   "metadata": {},
   "outputs": [],
   "source": [
    "def train_test_split_and_Incoterms_encoding(df):\n",
    "    try:\n",
    "        x=df.drop(\"dwell_time\",axis=1)\n",
    "        y=df[\"dwell_time\"]\n",
    "    \n",
    "        xtrain, xtest, ytrain, ytest = train_test_split(x, y, test_size = 0.2, random_state = 20)\n",
    "        return xtrain, xtest, ytrain, ytest\n",
    "    except exception as e\n",
    "        print(e)\n"
   ]
  },
  {
   "cell_type": "code",
   "execution_count": null,
   "id": "26eb93fd",
   "metadata": {},
   "outputs": [],
   "source": [
    "xtrain, xtest, ytrain, ytest=train_test_split_and_Incoterms_encoding(df)"
   ]
  },
  {
   "cell_type": "code",
   "execution_count": null,
   "id": "91e86fed-d691-4a25-b0da-9312dee774fc",
   "metadata": {},
   "outputs": [],
   "source": [
    "xtrain"
   ]
  },
  {
   "cell_type": "code",
   "execution_count": null,
   "id": "e4c1672e-7956-48a3-852d-3ce17b56b5fd",
   "metadata": {},
   "outputs": [],
   "source": [
    "xtest"
   ]
  },
  {
   "cell_type": "code",
   "execution_count": null,
   "id": "da86d865",
   "metadata": {},
   "outputs": [],
   "source": [
    "import xgboost\n",
    "best_xgb_model = xgboost.XGBRegressor()\n",
    "best_xgb_model.fit(xtrain,ytrain)\n",
    "y_pred =best_xgb_model.predict(xtest)\n",
    "r2_score(ytest,y_pred)"
   ]
  }
 ],
 "metadata": {
  "environment": {
   "kernel": "python3",
   "name": "tf2-gpu.2-3.m84",
   "type": "gcloud",
   "uri": "gcr.io/deeplearning-platform-release/tf2-gpu.2-3:m84"
  },
  "kernelspec": {
   "display_name": "Python 3",
   "language": "python",
   "name": "python3"
  },
  "language_info": {
   "codemirror_mode": {
    "name": "ipython",
    "version": 3
   },
   "file_extension": ".py",
   "mimetype": "text/x-python",
   "name": "python",
   "nbconvert_exporter": "python",
   "pygments_lexer": "ipython3",
   "version": "3.7.12"
  }
 },
 "nbformat": 4,
 "nbformat_minor": 5
}
